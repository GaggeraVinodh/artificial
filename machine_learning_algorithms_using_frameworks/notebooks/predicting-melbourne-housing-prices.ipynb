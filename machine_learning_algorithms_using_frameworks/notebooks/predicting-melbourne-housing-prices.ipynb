{
 "cells": [
  {
   "cell_type": "code",
   "execution_count": 20,
   "metadata": {
    "_cell_guid": "b569619b-97a2-4ea8-8718-0b745cc357f4",
    "_uuid": "ec7e07820c81e8671d3e8b15d382784b50d056e2"
   },
   "outputs": [
    {
     "name": "stdout",
     "output_type": "stream",
     "text": [
      "../../datasets/melb_data.csv\n",
      "\n"
     ]
    }
   ],
   "source": [
    "import numpy as np # linear algebra\n",
    "import pandas as pd # data processing, CSV file I/O (e.g. pd.read_csv)\n",
    "from subprocess import check_output\n",
    "print(check_output([\"ls\", \"../../datasets/melb_data.csv\"]).decode(\"utf8\"))"
   ]
  },
  {
   "cell_type": "code",
   "execution_count": 21,
   "metadata": {
    "_cell_guid": "1c95ac13-2b93-45fa-882d-9b710b29d642",
    "_uuid": "cc3af206f8808b276ebde4bd5ed25700e95973d9"
   },
   "outputs": [],
   "source": [
    "data=pd.read_csv('../../datasets/melb_data.csv')#Reading CSV file and saving it as a panda dataframe"
   ]
  },
  {
   "cell_type": "code",
   "execution_count": 32,
   "metadata": {
    "_cell_guid": "f625f11d-924e-4644-aef1-973ead340df9",
    "_uuid": "225e4ae7a704c5a2d3ff6bb02e2ff29bd3ad80ca"
   },
   "outputs": [
    {
     "name": "stdout",
     "output_type": "stream",
     "text": [
      "         Unnamed: 0        Rooms         Price     Distance     Postcode  \\\n",
      "count   6196.000000  6196.000000  6.196000e+03  6196.000000  6196.000000   \n",
      "mean    9632.061491     2.931407  1.068828e+06     9.751097  3101.947708   \n",
      "std     5743.219058     0.971079  6.751564e+05     5.612065    86.421604   \n",
      "min        2.000000     1.000000  1.310000e+05     0.000000  3000.000000   \n",
      "25%     4544.750000     2.000000  6.200000e+05     5.900000  3044.000000   \n",
      "50%     9346.500000     3.000000  8.800000e+05     9.000000  3081.000000   \n",
      "75%    14544.750000     4.000000  1.325000e+06    12.400000  3147.000000   \n",
      "max    19739.000000     8.000000  9.000000e+06    47.400000  3977.000000   \n",
      "\n",
      "          Bedroom2     Bathroom          Car      Landsize  BuildingArea  \\\n",
      "count  6196.000000  6196.000000  6196.000000   6196.000000   6196.000000   \n",
      "mean      2.902034     1.576340     1.573596    471.006940    141.568645   \n",
      "std       0.970055     0.711362     0.929947    897.449881     90.834824   \n",
      "min       0.000000     1.000000     0.000000      0.000000      0.000000   \n",
      "25%       2.000000     1.000000     1.000000    152.000000     91.000000   \n",
      "50%       3.000000     1.000000     1.000000    373.000000    124.000000   \n",
      "75%       3.000000     2.000000     2.000000    628.000000    170.000000   \n",
      "max       9.000000     8.000000    10.000000  37000.000000   3112.000000   \n",
      "\n",
      "         YearBuilt    Lattitude   Longtitude  Propertycount  \n",
      "count  6196.000000  6196.000000  6196.000000    6196.000000  \n",
      "mean   1964.081988   -37.807904   144.990201    7435.489509  \n",
      "std      38.105673     0.075850     0.099165    4337.698917  \n",
      "min    1196.000000   -38.164920   144.542370     389.000000  \n",
      "25%    1940.000000   -37.855438   144.926198    4383.750000  \n",
      "50%    1970.000000   -37.802250   144.995800    6567.000000  \n",
      "75%    2000.000000   -37.758200   145.052700   10175.000000  \n",
      "max    2018.000000   -37.457090   145.526350   21650.000000  \n"
     ]
    }
   ],
   "source": [
    "    print(data.describe())#Data Description"
   ]
  },
  {
   "cell_type": "code",
   "execution_count": 33,
   "metadata": {
    "_cell_guid": "9fc84f21-71dc-4c3a-be9d-53127a083209",
    "_uuid": "916fce98d0580b49b63d627274cc04287bfb8203"
   },
   "outputs": [
    {
     "data": {
      "text/plain": [
       "Index(['Unnamed: 0', 'Suburb', 'Address', 'Rooms', 'Type', 'Price', 'Method',\n",
       "       'SellerG', 'Date', 'Distance', 'Postcode', 'Bedroom2', 'Bathroom',\n",
       "       'Car', 'Landsize', 'BuildingArea', 'YearBuilt', 'CouncilArea',\n",
       "       'Lattitude', 'Longtitude', 'Regionname', 'Propertycount'],\n",
       "      dtype='object')"
      ]
     },
     "execution_count": 33,
     "metadata": {},
     "output_type": "execute_result"
    }
   ],
   "source": [
    "    data.columns #Displaying the cumn names of the dataframe "
   ]
  },
  {
   "cell_type": "code",
   "execution_count": 34,
   "metadata": {
    "_cell_guid": "95fa9240-f433-4cab-a9a0-a48f7a1c4a97",
    "_uuid": "3512c929ee6d2223211963ab6418b675bf78074b"
   },
   "outputs": [
    {
     "name": "stdout",
     "output_type": "stream",
     "text": [
      "Index(['Unnamed: 0', 'Suburb', 'Address', 'Rooms', 'Type', 'Price', 'Method',\n",
      "       'SellerG', 'Date', 'Distance', 'Postcode', 'Bedroom2', 'Bathroom',\n",
      "       'Car', 'Landsize', 'BuildingArea', 'YearBuilt', 'CouncilArea',\n",
      "       'Lattitude', 'Longtitude', 'Regionname', 'Propertycount'],\n",
      "      dtype='object')\n"
     ]
    }
   ],
   "source": [
    "print(data.columns)"
   ]
  },
  {
   "cell_type": "code",
   "execution_count": 35,
   "metadata": {
    "_cell_guid": "963d3b21-38fb-498d-adbc-a1ed7205c0a3",
    "_uuid": "ca8a4cc0061fe1356e55f65c235f7137bb2e715d"
   },
   "outputs": [
    {
     "data": {
      "text/plain": [
       "15388      30 Sherwin St\n",
       "15389        75 Cecil St\n",
       "15390      2/29 Dover Rd\n",
       "15392    201/152 Peel St\n",
       "15395    54 Pentland Pde\n",
       "Name: Address, dtype: object"
      ]
     },
     "execution_count": 35,
     "metadata": {},
     "output_type": "execute_result"
    }
   ],
   "source": [
    "p_data=data.Address\n",
    "p_data.head() #head gives first 5 rows of the dataframe\n",
    "p_data.tail() #tail gives last 5 rows of the dataframe"
   ]
  },
  {
   "cell_type": "code",
   "execution_count": 36,
   "metadata": {
    "_cell_guid": "bec32f0b-37b8-4420-b93b-6e866a85f47c",
    "_uuid": "fce31a3acc0303705446de99374b09de43387e33"
   },
   "outputs": [
    {
     "data": {
      "text/plain": [
       "1    1035000.0\n",
       "2    1465000.0\n",
       "4    1600000.0\n",
       "6    1876000.0\n",
       "7    1636000.0\n",
       "Name: Price, dtype: float64"
      ]
     },
     "execution_count": 36,
     "metadata": {},
     "output_type": "execute_result"
    }
   ],
   "source": [
    "data.Price.head()"
   ]
  },
  {
   "cell_type": "code",
   "execution_count": 37,
   "metadata": {
    "_cell_guid": "f72aafb3-5afa-4618-8c4b-9cefc42e567d",
    "_uuid": "1eea63ce0e9151f6c5ba38ec4d918fa69fb7dfce"
   },
   "outputs": [
    {
     "data": {
      "text/html": [
       "<div>\n",
       "<style scoped>\n",
       "    .dataframe tbody tr th:only-of-type {\n",
       "        vertical-align: middle;\n",
       "    }\n",
       "\n",
       "    .dataframe tbody tr th {\n",
       "        vertical-align: top;\n",
       "    }\n",
       "\n",
       "    .dataframe thead th {\n",
       "        text-align: right;\n",
       "    }\n",
       "</style>\n",
       "<table border=\"1\" class=\"dataframe\">\n",
       "  <thead>\n",
       "    <tr style=\"text-align: right;\">\n",
       "      <th></th>\n",
       "      <th>Landsize</th>\n",
       "      <th>BuildingArea</th>\n",
       "    </tr>\n",
       "  </thead>\n",
       "  <tbody>\n",
       "    <tr>\n",
       "      <th>count</th>\n",
       "      <td>6196.000000</td>\n",
       "      <td>6196.000000</td>\n",
       "    </tr>\n",
       "    <tr>\n",
       "      <th>mean</th>\n",
       "      <td>471.006940</td>\n",
       "      <td>141.568645</td>\n",
       "    </tr>\n",
       "    <tr>\n",
       "      <th>std</th>\n",
       "      <td>897.449881</td>\n",
       "      <td>90.834824</td>\n",
       "    </tr>\n",
       "    <tr>\n",
       "      <th>min</th>\n",
       "      <td>0.000000</td>\n",
       "      <td>0.000000</td>\n",
       "    </tr>\n",
       "    <tr>\n",
       "      <th>25%</th>\n",
       "      <td>152.000000</td>\n",
       "      <td>91.000000</td>\n",
       "    </tr>\n",
       "    <tr>\n",
       "      <th>50%</th>\n",
       "      <td>373.000000</td>\n",
       "      <td>124.000000</td>\n",
       "    </tr>\n",
       "    <tr>\n",
       "      <th>75%</th>\n",
       "      <td>628.000000</td>\n",
       "      <td>170.000000</td>\n",
       "    </tr>\n",
       "    <tr>\n",
       "      <th>max</th>\n",
       "      <td>37000.000000</td>\n",
       "      <td>3112.000000</td>\n",
       "    </tr>\n",
       "  </tbody>\n",
       "</table>\n",
       "</div>"
      ],
      "text/plain": [
       "           Landsize  BuildingArea\n",
       "count   6196.000000   6196.000000\n",
       "mean     471.006940    141.568645\n",
       "std      897.449881     90.834824\n",
       "min        0.000000      0.000000\n",
       "25%      152.000000     91.000000\n",
       "50%      373.000000    124.000000\n",
       "75%      628.000000    170.000000\n",
       "max    37000.000000   3112.000000"
      ]
     },
     "execution_count": 37,
     "metadata": {},
     "output_type": "execute_result"
    }
   ],
   "source": [
    "col=['Landsize', 'BuildingArea']\n",
    "t=data[col]\n",
    "t.describe()"
   ]
  },
  {
   "cell_type": "code",
   "execution_count": 38,
   "metadata": {
    "_cell_guid": "d29c460f-bcec-48c4-b32a-87e0c682c72d",
    "_uuid": "4e6bd4408eafc35823d8afcfacb32904bb0d1134"
   },
   "outputs": [],
   "source": [
    "data=data.dropna() #Removing NULL Values\n",
    "#We are dividing the data into predictors(INDEPENDENT) and prediction(DEPENDENT) arrays\n",
    "predict=['Price']\n",
    "y=data[predict]\n",
    "predictors=['Rooms', 'Bathroom', 'Landsize', 'BuildingArea', 'YearBuilt', 'Lattitude', 'Longtitude']\n",
    "X=data[predictors]\n"
   ]
  },
  {
   "cell_type": "code",
   "execution_count": 39,
   "metadata": {
    "_cell_guid": "a82236b2-2f31-454a-acb3-4e25d1d98eaf",
    "_uuid": "6e19f4b12a0c9ac81751bedc0c41a79ce0168ba2"
   },
   "outputs": [
    {
     "data": {
      "text/plain": [
       "DecisionTreeRegressor(ccp_alpha=0.0, criterion='mse', max_depth=None,\n",
       "                      max_features=None, max_leaf_nodes=None,\n",
       "                      min_impurity_decrease=0.0, min_impurity_split=None,\n",
       "                      min_samples_leaf=1, min_samples_split=2,\n",
       "                      min_weight_fraction_leaf=0.0, presort='deprecated',\n",
       "                      random_state=None, splitter='best')"
      ]
     },
     "execution_count": 39,
     "metadata": {},
     "output_type": "execute_result"
    }
   ],
   "source": [
    "#using decision tree model\n",
    "from sklearn.tree import DecisionTreeRegressor as dt\n",
    "model = dt()\n",
    "model.fit(X, y)\n",
    "    "
   ]
  },
  {
   "cell_type": "code",
   "execution_count": 40,
   "metadata": {
    "_cell_guid": "fc0f255c-7005-4d56-87ed-6c516cd18e05",
    "_uuid": "251cac5ec70e1ac1f18dcbe4a5a6aff12e9cf203"
   },
   "outputs": [
    {
     "data": {
      "text/plain": [
       "array([1035000., 1465000., 1600000., 1876000., 1636000.])"
      ]
     },
     "execution_count": 40,
     "metadata": {},
     "output_type": "execute_result"
    }
   ],
   "source": [
    "model.predict(X.head())#predicting our independent variable for first 5 roes"
   ]
  },
  {
   "cell_type": "code",
   "execution_count": 41,
   "metadata": {
    "_cell_guid": "9ef969e2-0f2a-4e45-9c1b-0f9a4c699437",
    "_uuid": "1371747f8865887c943a057c65989e71615accb0"
   },
   "outputs": [
    {
     "data": {
      "text/plain": [
       "array([ 601000., 1050000.,  385000.,  560000., 2450000.])"
      ]
     },
     "execution_count": 41,
     "metadata": {},
     "output_type": "execute_result"
    }
   ],
   "source": [
    "model.predict(X.tail())"
   ]
  },
  {
   "cell_type": "code",
   "execution_count": 42,
   "metadata": {
    "_cell_guid": "f5965052-8137-43d5-ac5e-3786adb39b57",
    "_uuid": "aba5083d9c9aae67ff46ea59cd3c26f2dd9756dc"
   },
   "outputs": [
    {
     "data": {
      "text/plain": [
       "array([1035000.])"
      ]
     },
     "execution_count": 42,
     "metadata": {},
     "output_type": "execute_result"
    }
   ],
   "source": [
    "model.predict([[2,1.0,156.0,79.0,1900.0,-37.8079,144.9934]]) #prediction for custom input"
   ]
  },
  {
   "cell_type": "code",
   "execution_count": 43,
   "metadata": {
    "_cell_guid": "e214f87b-ae12-4ee5-b964-084d7738041b",
    "_uuid": "e089e8a8ccf4855539236f6d3942a858a212691c"
   },
   "outputs": [
    {
     "data": {
      "text/plain": [
       "434.71594577146544"
      ]
     },
     "execution_count": 43,
     "metadata": {},
     "output_type": "execute_result"
    }
   ],
   "source": [
    "#MODEL VALIDATION using mean absolute error\n",
    "from sklearn.metrics import mean_absolute_error\n",
    "predict=model.predict(X)\n",
    "mean_absolute_error(y,predict)"
   ]
  },
  {
   "cell_type": "code",
   "execution_count": 44,
   "metadata": {
    "_cell_guid": "da18099a-2c80-421b-8e89-7faf614d5f39",
    "_uuid": "70ad2485bd8b36762c9adcdb71721b1400bea71f"
   },
   "outputs": [
    {
     "name": "stdout",
     "output_type": "stream",
     "text": [
      "262814.9728857327\n"
     ]
    }
   ],
   "source": [
    "#MODEL VALIDATION by dividing data into training and tesing dataset\n",
    "from sklearn.model_selection import train_test_split\n",
    "from sklearn.tree import DecisionTreeRegressor as dt\n",
    "\n",
    "# split data into training and validation data, for both predictors and target\n",
    "# The split is based on a random number generator. Supplying a numeric value to\n",
    "# the random_state argument guarantees we get the same split every time we\n",
    "# run this script.\n",
    "train_X, val_X, train_y, val_y = train_test_split(X, y,random_state = 0)\n",
    "# Define model\n",
    "melbourne_model =dt()\n",
    "# Fit model\n",
    "melbourne_model.fit(train_X, train_y)\n",
    "\n",
    "# get predicted prices on validation data\n",
    "val_predictions = melbourne_model.predict(val_X)\n",
    "print(mean_absolute_error(val_y, val_predictions))"
   ]
  },
  {
   "cell_type": "code",
   "execution_count": 45,
   "metadata": {
    "_cell_guid": "162de9f6-69c0-488c-be1a-a9d9ef510565",
    "_uuid": "06cd9a8fe696a0b065c4688dc6f65c1f206a067d"
   },
   "outputs": [
    {
     "name": "stdout",
     "output_type": "stream",
     "text": [
      "Max leaf nodes: 5  \t\t Mean Absolute Error:  347380\n",
      "Max leaf nodes: 50  \t\t Mean Absolute Error:  258171\n",
      "Max leaf nodes: 500  \t\t Mean Absolute Error:  243495\n",
      "Max leaf nodes: 5000  \t\t Mean Absolute Error:  254983\n"
     ]
    }
   ],
   "source": [
    "#OPtimium fitting using max_leaf_nodes as a meetric for finding out optimum number of leaves to use\n",
    "from sklearn.metrics import mean_absolute_error\n",
    "from sklearn.tree import DecisionTreeRegressor\n",
    "\n",
    "def get_mae(max_leaf_nodes, predictors_train, predictors_val, targ_train, targ_val):\n",
    "    model = DecisionTreeRegressor(max_leaf_nodes=max_leaf_nodes, random_state=0)\n",
    "    model.fit(predictors_train, targ_train)\n",
    "    preds_val = model.predict(predictors_val)\n",
    "    mae = mean_absolute_error(targ_val, preds_val)\n",
    "    return(mae)\n",
    "# compare MAE with differing values of max_leaf_nodes\n",
    "for max_leaf_nodes in [5, 50, 500, 5000]:\n",
    "    my_mae = get_mae(max_leaf_nodes, train_X, val_X, train_y, val_y)\n",
    "    print(\"Max leaf nodes: %d  \\t\\t Mean Absolute Error:  %d\" %(max_leaf_nodes, my_mae))"
   ]
  },
  {
   "cell_type": "code",
   "execution_count": 46,
   "metadata": {
    "_cell_guid": "87da4e3a-4743-4d66-8450-562c57217246",
    "_uuid": "0db21a97505fff0d388589a5661685b7ebb70407"
   },
   "outputs": [
    {
     "name": "stdout",
     "output_type": "stream",
     "text": [
      "193410.2260622829\n"
     ]
    }
   ],
   "source": [
    "#Using Random forrests\n",
    "from sklearn.ensemble import RandomForestRegressor\n",
    "from sklearn.metrics import mean_absolute_error\n",
    "from sklearn.model_selection import train_test_split\n",
    "train_X, val_X, train_y, val_y = train_test_split(X, y,random_state = 0)\n",
    "forest_model = RandomForestRegressor()\n",
    "forest_model.fit(train_X, train_y.values.ravel())\n",
    "#The function expects train_y to be a 1D array,ravel() converts the 2d array to 1d array \n",
    "melb_preds = forest_model.predict(val_X)\n",
    "print(mean_absolute_error(val_y, melb_preds))\n"
   ]
  },
  {
   "cell_type": "code",
   "execution_count": null,
   "metadata": {},
   "outputs": [],
   "source": []
  }
 ],
 "metadata": {
  "kernelspec": {
   "display_name": "Python 3",
   "language": "python",
   "name": "python3"
  },
  "language_info": {
   "codemirror_mode": {
    "name": "ipython",
    "version": 3
   },
   "file_extension": ".py",
   "mimetype": "text/x-python",
   "name": "python",
   "nbconvert_exporter": "python",
   "pygments_lexer": "ipython3",
   "version": "3.6.8"
  }
 },
 "nbformat": 4,
 "nbformat_minor": 1
}
