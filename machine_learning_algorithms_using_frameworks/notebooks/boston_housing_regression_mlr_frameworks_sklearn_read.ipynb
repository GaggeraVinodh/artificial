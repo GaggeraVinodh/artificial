{
 "cells": [
  {
   "cell_type": "code",
   "execution_count": 6,
   "metadata": {},
   "outputs": [],
   "source": [
    "# python implementation of simple Linear Regression for Boston housing price regression\n",
    "# import the libraries\n",
    "import numpy as np\n",
    "import matplotlib.pyplot as plt\n",
    "import pandas as pd\n",
    "from sklearn.model_selection import train_test_split\n",
    "from sklearn.linear_model import LinearRegression"
   ]
  },
  {
   "cell_type": "code",
   "execution_count": 7,
   "metadata": {},
   "outputs": [],
   "source": [
    "# Importing Libraries \n",
    "import numpy as np \n",
    "import pandas as pd \n",
    "import matplotlib.pyplot as plt "
   ]
  },
  {
   "cell_type": "code",
   "execution_count": 8,
   "metadata": {},
   "outputs": [],
   "source": [
    "# Importing Data \n",
    "from sklearn.datasets import load_boston \n",
    "boston = load_boston()\n",
    "\n",
    "inputx = boston.data\n",
    "outputy = boston.target"
   ]
  },
  {
   "cell_type": "code",
   "execution_count": 9,
   "metadata": {},
   "outputs": [
    {
     "name": "stdout",
     "output_type": "stream",
     "text": [
      "[[6.72400e-02 0.00000e+00 3.24000e+00 ... 1.69000e+01 3.75210e+02\n",
      "  7.34000e+00]\n",
      " [9.23230e+00 0.00000e+00 1.81000e+01 ... 2.02000e+01 3.66150e+02\n",
      "  9.53000e+00]\n",
      " [1.14250e-01 0.00000e+00 1.38900e+01 ... 1.64000e+01 3.93740e+02\n",
      "  1.05000e+01]\n",
      " ...\n",
      " [3.51140e-01 0.00000e+00 7.38000e+00 ... 1.96000e+01 3.96900e+02\n",
      "  7.70000e+00]\n",
      " [4.46200e-02 2.50000e+01 4.86000e+00 ... 1.90000e+01 3.95630e+02\n",
      "  7.22000e+00]\n",
      " [4.54192e+00 0.00000e+00 1.81000e+01 ... 2.02000e+01 3.74560e+02\n",
      "  7.79000e+00]]\n"
     ]
    }
   ],
   "source": [
    "input_train, input_test, output_train, output_test = train_test_split(inputx, outputy, test_size = 1/3, random_state = 0)\n",
    "print(input_test)"
   ]
  },
  {
   "cell_type": "code",
   "execution_count": 10,
   "metadata": {},
   "outputs": [
    {
     "name": "stdout",
     "output_type": "stream",
     "text": [
      "[25.04957382 24.01944098 29.28696976 12.02444008 21.22276537 19.127793\n",
      " 20.70097576 21.12458962 19.31534804 20.53756504  5.77617201 17.0201836\n",
      " 17.00551618  5.32772005 40.26831053 32.48720037 22.55491255 36.73522746\n",
      " 31.28172539 23.26536587 24.7003722  24.60601333 20.61210579 30.67245207\n",
      " 22.35498131 10.93991932 17.21696979 18.19927949 35.54491978 20.71944112\n",
      " 18.20622681 17.62888258 19.0903763  23.58709825 29.14001321 19.47806532\n",
      " 10.8569891  25.17745915 18.22279109 15.41751357 26.21222019 20.70306162\n",
      " 22.20400443 15.57251654 22.48916067 24.76706535 19.49087514 22.88678576\n",
      "  9.45649655 24.28291309 21.50434173 17.52886484 24.47744414 29.47675364\n",
      " 13.3593672  21.42046633 20.5158417  14.71491024 15.05935713 21.90510052\n",
      " 16.94118143 21.40256808 33.13663616 31.64643742 17.90013591 33.17280947\n",
      " 18.50631786 18.74101956 19.41085274 23.09669591 22.81283204 24.0621204\n",
      " 30.90374312 28.80591957 25.99916032  4.93011087 36.75883748 23.64372627\n",
      " 27.35680837 19.20853946 28.47622141 18.98616989 19.25261688 37.94200491\n",
      " 39.27959448 23.66496777 24.90119952 16.92338791 25.9469977  16.60258241\n",
      " 15.37344687 13.3225723  24.19813566 30.89470401 22.17488811 19.71077629\n",
      "  0.20011668 24.91142957 16.04950521 17.22643317 25.46873326 22.25153671\n",
      " 32.69064307 22.0193476  27.15210784 23.13003124  6.93409466 15.13913083\n",
      " 22.27511855 29.33131143 33.38914414 13.14972909 19.30832302 20.80811008\n",
      " 11.42789565 23.34428705  5.22675443 19.64550897  9.1471691  45.08305848\n",
      " 30.76208674 12.27181943 17.08585144 21.47436689 23.56749588 20.20121045\n",
      " 35.20602956 12.85071837 20.62730017 35.41080653 19.31882804 13.64975951\n",
      " 13.88363832 23.10776974 14.95679333 30.93640422 25.32616701 15.04738214\n",
      " 23.88361549  9.74156844 14.79560779 21.06796052 33.0019008  27.81593157\n",
      " 26.02047839 15.00068016 31.15110885 27.61244631 14.51349401  7.29619178\n",
      " 28.39106913 24.9824852   3.97468523 28.44665299 16.89019834 29.68443287\n",
      " 20.21670714 15.34972868 17.53420345 12.15184166  9.11870279 18.82719541\n",
      " 34.56800348 32.93985749 22.66132912 19.24086128 22.74504641 26.61496408\n",
      " 21.80294664]\n"
     ]
    }
   ],
   "source": [
    "# using simple Linear Regression model to train\n",
    "model = LinearRegression()\n",
    "model.fit(input_train, output_train)\n",
    "\n",
    "# model predicting the Test set results\n",
    "predicted_output = model.predict(input_test)\n",
    "print(predicted_output)"
   ]
  },
  {
   "cell_type": "code",
   "execution_count": null,
   "metadata": {},
   "outputs": [],
   "source": []
  }
 ],
 "metadata": {
  "kernelspec": {
   "display_name": "Python 3",
   "language": "python",
   "name": "python3"
  },
  "language_info": {
   "codemirror_mode": {
    "name": "ipython",
    "version": 3
   },
   "file_extension": ".py",
   "mimetype": "text/x-python",
   "name": "python",
   "nbconvert_exporter": "python",
   "pygments_lexer": "ipython3",
   "version": "3.6.8"
  }
 },
 "nbformat": 4,
 "nbformat_minor": 2
}
