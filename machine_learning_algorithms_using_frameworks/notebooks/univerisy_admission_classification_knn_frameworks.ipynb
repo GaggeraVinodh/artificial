{
 "cells": [
  {
   "cell_type": "code",
   "execution_count": 1,
   "metadata": {},
   "outputs": [],
   "source": [
    "# KNN Classification\n",
    "from pandas import read_csv\n",
    "from sklearn.model_selection import KFold\n",
    "from sklearn.model_selection import cross_val_score\n",
    "from sklearn.neighbors import KNeighborsClassifier\n",
    "from sklearn import preprocessing"
   ]
  },
  {
   "cell_type": "code",
   "execution_count": 2,
   "metadata": {},
   "outputs": [],
   "source": [
    "filename = '../../datasets/university_admission_classification_train.csv'\n",
    "names = ['selection', 'gre', 'gpa', 'prestige']\n",
    "df = read_csv(filename, names=names)"
   ]
  },
  {
   "cell_type": "code",
   "execution_count": 3,
   "metadata": {},
   "outputs": [
    {
     "data": {
      "text/plain": [
       "array([1, 0, 2, 3])"
      ]
     },
     "execution_count": 3,
     "metadata": {},
     "output_type": "execute_result"
    }
   ],
   "source": [
    "# label_encoder object knows how to understand word labels\n",
    "label_encoder = preprocessing.LabelEncoder()\n",
    "df['prestige']= label_encoder.fit_transform(df['prestige'])\n",
    "df['prestige'].unique()"
   ]
  },
  {
   "cell_type": "code",
   "execution_count": 4,
   "metadata": {},
   "outputs": [],
   "source": [
    "array = df.values\n",
    "inputx = array[:,1:4]\n",
    "outputy = array[:,0]"
   ]
  },
  {
   "cell_type": "code",
   "execution_count": 5,
   "metadata": {},
   "outputs": [],
   "source": [
    "model = KNeighborsClassifier()\n",
    "model.fit(inputx,outputy)\n",
    "filename = '../../datasets/university_admission_classification_small_test.csv'\n",
    "names = ['gre', 'gpa', 'prestige']\n",
    "newdf = read_csv(filename, names=names)"
   ]
  },
  {
   "cell_type": "code",
   "execution_count": 6,
   "metadata": {},
   "outputs": [
    {
     "name": "stdout",
     "output_type": "stream",
     "text": [
      "\n",
      "    gre   gpa  prestige\n",
      "0  640  3.30         3\n",
      "1  660  3.60         1\n",
      "2  400  3.15         3\n",
      "3  220  2.83         1\n",
      "4  580  3.46         2\n",
      "5  540  3.17         0\n",
      "6  580  3.51         3\n",
      "7  540  3.13         3\n",
      "8  440  2.98         1\n",
      "9  560  4.00         1 \n",
      "\n"
     ]
    }
   ],
   "source": [
    "# label_encoder object knows how to understand word labels\n",
    "label_encoder = preprocessing.LabelEncoder()\n",
    "newdf['prestige']= label_encoder.fit_transform(newdf['prestige'])\n",
    "newdf['prestige'].unique()\n",
    "array = newdf.values\n",
    "z = array[:,0:3]\n",
    "print(\"\\n\",newdf,\"\\n\")"
   ]
  },
  {
   "cell_type": "code",
   "execution_count": 7,
   "metadata": {},
   "outputs": [
    {
     "name": "stdout",
     "output_type": "stream",
     "text": [
      "[0. 1. 0. 0. 0. 0. 0. 0. 0. 0.] \n",
      "\n",
      "not selected  selected  not selected  not selected  not selected  not selected  not selected  not selected  not selected  not selected  \n",
      "\n",
      "\n"
     ]
    }
   ],
   "source": [
    "res=model.predict(z)\n",
    "reslist=[]\n",
    "res=model.predict(z)\n",
    "print(model.predict(z),\"\\n\")\n",
    "for val in res:\n",
    "    if val==0:\n",
    "        print( \"not selected\",end=\" \")\n",
    "    elif val == 1:\n",
    "        print( \"selected\",end=\" \")\n",
    "    print(end=\" \")\n",
    "print(\"\\n\\n\")"
   ]
  },
  {
   "cell_type": "code",
   "execution_count": null,
   "metadata": {},
   "outputs": [],
   "source": []
  }
 ],
 "metadata": {
  "kernelspec": {
   "display_name": "Python 3",
   "language": "python",
   "name": "python3"
  },
  "language_info": {
   "codemirror_mode": {
    "name": "ipython",
    "version": 3
   },
   "file_extension": ".py",
   "mimetype": "text/x-python",
   "name": "python",
   "nbconvert_exporter": "python",
   "pygments_lexer": "ipython3",
   "version": "3.6.8"
  }
 },
 "nbformat": 4,
 "nbformat_minor": 2
}
