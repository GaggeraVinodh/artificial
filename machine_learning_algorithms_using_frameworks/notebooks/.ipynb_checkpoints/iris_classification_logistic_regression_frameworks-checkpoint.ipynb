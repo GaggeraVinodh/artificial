{
 "cells": [
  {
   "cell_type": "code",
   "execution_count": 1,
   "metadata": {},
   "outputs": [],
   "source": [
    "# KNN Classification\n",
    "from pandas import read_csv\n",
    "from sklearn.model_selection import KFold\n",
    "from sklearn.model_selection import cross_val_score\n",
    "from sklearn.linear_model import LogisticRegression\n",
    "from sklearn import preprocessing"
   ]
  },
  {
   "cell_type": "code",
   "execution_count": 2,
   "metadata": {},
   "outputs": [],
   "source": [
    "filename = '../../datasets/iris_classification_train.csv'\n",
    "names = ['sepal_length', 'sepal_width', 'petal_length', 'petal_width','flower_name']\n",
    "df = read_csv(filename, names=names)"
   ]
  },
  {
   "cell_type": "code",
   "execution_count": 3,
   "metadata": {},
   "outputs": [],
   "source": [
    "# label_encoder object knows how to understand word labels.\n",
    "label_encoder = preprocessing.LabelEncoder()\n",
    "df['flower_name']= label_encoder.fit_transform(df['flower_name'])\n",
    "df['flower_name'].unique()\n",
    "array = df.values\n",
    "inputx = array[:,0:4]\n",
    "outputy = array[:,4]"
   ]
  },
  {
   "cell_type": "code",
   "execution_count": 4,
   "metadata": {},
   "outputs": [],
   "source": [
    "model = LogisticRegression(solver='liblinear')\n",
    "model.fit(inputx,outputy)\n",
    "filename = '../../datasets/iris_classification_test.csv'\n",
    "names = ['sepal_length', 'sepal_width', 'petal_length', 'petal_width']\n",
    "newdataframe = read_csv(filename, names=names)"
   ]
  },
  {
   "cell_type": "code",
   "execution_count": 5,
   "metadata": {},
   "outputs": [
    {
     "name": "stdout",
     "output_type": "stream",
     "text": [
      "\n",
      "     sepal_length  sepal_width  petal_length  petal_width\n",
      "0            5.1          3.5           1.4          0.2\n",
      "1            4.9          3.0           1.4          0.2\n",
      "2            4.7          3.2           1.3          0.2\n",
      "3            4.6          3.1           1.5          0.2\n",
      "4            5.0          3.6           1.4          0.2\n",
      "5            7.0          3.2           4.7          1.4\n",
      "6            6.4          3.2           4.5          1.5\n",
      "7            6.9          3.1           4.9          1.5\n",
      "8            5.5          2.3           4.0          1.3\n",
      "9            6.5          2.8           4.6          1.5\n",
      "10           5.7          2.8           4.1          1.3\n",
      "11           6.3          3.3           6.0          2.5\n",
      "12           5.8          2.7           5.1          1.9\n",
      "13           7.1          3.0           5.9          2.1\n",
      "14           6.3          2.9           5.6          1.8\n",
      "15           6.5          3.0           5.8          2.2\n",
      "16           7.6          3.0           6.6          2.1 \n",
      "\n"
     ]
    }
   ],
   "source": [
    "array = newdataframe.values\n",
    "z = array[:,0:4]\n",
    "print(\"\\n\",newdataframe,\"\\n\")"
   ]
  },
  {
   "cell_type": "code",
   "execution_count": 6,
   "metadata": {},
   "outputs": [
    {
     "name": "stdout",
     "output_type": "stream",
     "text": [
      "[0. 0. 0. 0. 0. 1. 1. 1. 1. 1. 1. 2. 2. 2. 2. 2. 2.] \n",
      "\n",
      "Iris_Setosa  Iris_Setosa  Iris_Setosa  Iris_Setosa  Iris_Setosa  Iris_Versicolor  Iris_Versicolor  Iris_Versicolor  Iris_Versicolor  Iris_Versicolor  Iris_Versicolor  Iris_Viginica  Iris_Viginica  Iris_Viginica  Iris_Viginica  Iris_Viginica  Iris_Viginica  \n",
      "\n",
      "\n"
     ]
    }
   ],
   "source": [
    "res=model.predict(z)\n",
    "reslist=[]\n",
    "res=model.predict(z)\n",
    "print(model.predict(z),\"\\n\")\n",
    "for val in res:\n",
    "    if val==0:\n",
    "        print(\"Iris_Setosa\",end=\" \")\n",
    "    elif val == 1:\n",
    "        print(\"Iris_Versicolor\",end=\" \")\n",
    "    else:\n",
    "        print(\"Iris_Viginica\",end=\" \")\n",
    "    print(end=\" \")\n",
    "print(\"\\n\\n\")"
   ]
  },
  {
   "cell_type": "code",
   "execution_count": null,
   "metadata": {},
   "outputs": [],
   "source": []
  }
 ],
 "metadata": {
  "kernelspec": {
   "display_name": "Python 3",
   "language": "python",
   "name": "python3"
  },
  "language_info": {
   "codemirror_mode": {
    "name": "ipython",
    "version": 3
   },
   "file_extension": ".py",
   "mimetype": "text/x-python",
   "name": "python",
   "nbconvert_exporter": "python",
   "pygments_lexer": "ipython3",
   "version": "3.6.8"
  }
 },
 "nbformat": 4,
 "nbformat_minor": 2
}
