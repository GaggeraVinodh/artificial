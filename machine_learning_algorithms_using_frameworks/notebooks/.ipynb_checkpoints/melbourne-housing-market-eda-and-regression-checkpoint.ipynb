{
 "cells": [
  {
   "cell_type": "markdown",
   "metadata": {
    "_cell_guid": "bfa58721-b66b-4b34-b9ff-d4fd142e0f1e",
    "_execution_state": "idle",
    "_uuid": "803092090eb9fe9adb01d684071a42a6bae57db6"
   },
   "source": [
    "# **CONTEXT**\n",
    "The objective of this project is to apply exploratory analysis and regression techniques to identify which features affect home prices the most in the Melbourne Housing Market."
   ]
  },
  {
   "cell_type": "markdown",
   "metadata": {
    "_cell_guid": "f55fd1e3-40f6-419c-8a18-3411c6b314b1",
    "_uuid": "95ced8c5affd7d636c88583ca784bebd70c4af72"
   },
   "source": [
    "# **DATA PRE-PREPROCESSING**\n",
    "The first step is to load the data and gain a better understanding of the information each column contains.  "
   ]
  },
  {
   "cell_type": "code",
   "execution_count": 1,
   "metadata": {
    "_cell_guid": "8f3ef938-0b3b-4881-8d16-d6b5d4e1928c",
    "_execution_state": "idle",
    "_uuid": "90279098cd4ca2582d872afdcf574e0b83988fbb"
   },
   "outputs": [],
   "source": [
    "# Import libraries\n",
    "import numpy as np # linear algebra\n",
    "import pandas as pd # data processing, CSV file I/O (e.g. pd.read_csv)\n",
    "import seaborn as sns\n",
    "import sklearn \n",
    "import matplotlib.pyplot as plt\n",
    "%matplotlib inline"
   ]
  },
  {
   "cell_type": "code",
   "execution_count": 2,
   "metadata": {
    "_cell_guid": "2110e9bd-7ac0-40d9-a346-ba6296179748",
    "_execution_state": "idle",
    "_uuid": "2767ce4bfaf3de69b54d263df1bdeb5ffa1a432c"
   },
   "outputs": [
    {
     "ename": "FileNotFoundError",
     "evalue": "[Errno 2] File b'../input/Melbourne_housing_extra_data-18-08-2017.csv' does not exist: b'../input/Melbourne_housing_extra_data-18-08-2017.csv'",
     "output_type": "error",
     "traceback": [
      "\u001b[0;31m---------------------------------------------------------------------------\u001b[0m",
      "\u001b[0;31mFileNotFoundError\u001b[0m                         Traceback (most recent call last)",
      "\u001b[0;32m<ipython-input-2-ff0650b45275>\u001b[0m in \u001b[0;36m<module>\u001b[0;34m\u001b[0m\n\u001b[1;32m      1\u001b[0m \u001b[0;31m# Read data\u001b[0m\u001b[0;34m\u001b[0m\u001b[0;34m\u001b[0m\u001b[0;34m\u001b[0m\u001b[0m\n\u001b[0;32m----> 2\u001b[0;31m \u001b[0mdataset\u001b[0m \u001b[0;34m=\u001b[0m \u001b[0mpd\u001b[0m\u001b[0;34m.\u001b[0m\u001b[0mread_csv\u001b[0m\u001b[0;34m(\u001b[0m\u001b[0;34m'../input/Melbourne_housing_extra_data-18-08-2017.csv'\u001b[0m\u001b[0;34m)\u001b[0m\u001b[0;34m\u001b[0m\u001b[0;34m\u001b[0m\u001b[0m\n\u001b[0m",
      "\u001b[0;32m~/miniconda3/envs/Artificial_Intelligence_and_Machine_Learning/lib/python3.6/site-packages/pandas/io/parsers.py\u001b[0m in \u001b[0;36mparser_f\u001b[0;34m(filepath_or_buffer, sep, delimiter, header, names, index_col, usecols, squeeze, prefix, mangle_dupe_cols, dtype, engine, converters, true_values, false_values, skipinitialspace, skiprows, skipfooter, nrows, na_values, keep_default_na, na_filter, verbose, skip_blank_lines, parse_dates, infer_datetime_format, keep_date_col, date_parser, dayfirst, cache_dates, iterator, chunksize, compression, thousands, decimal, lineterminator, quotechar, quoting, doublequote, escapechar, comment, encoding, dialect, error_bad_lines, warn_bad_lines, delim_whitespace, low_memory, memory_map, float_precision)\u001b[0m\n\u001b[1;32m    683\u001b[0m         )\n\u001b[1;32m    684\u001b[0m \u001b[0;34m\u001b[0m\u001b[0m\n\u001b[0;32m--> 685\u001b[0;31m         \u001b[0;32mreturn\u001b[0m \u001b[0m_read\u001b[0m\u001b[0;34m(\u001b[0m\u001b[0mfilepath_or_buffer\u001b[0m\u001b[0;34m,\u001b[0m \u001b[0mkwds\u001b[0m\u001b[0;34m)\u001b[0m\u001b[0;34m\u001b[0m\u001b[0;34m\u001b[0m\u001b[0m\n\u001b[0m\u001b[1;32m    686\u001b[0m \u001b[0;34m\u001b[0m\u001b[0m\n\u001b[1;32m    687\u001b[0m     \u001b[0mparser_f\u001b[0m\u001b[0;34m.\u001b[0m\u001b[0m__name__\u001b[0m \u001b[0;34m=\u001b[0m \u001b[0mname\u001b[0m\u001b[0;34m\u001b[0m\u001b[0;34m\u001b[0m\u001b[0m\n",
      "\u001b[0;32m~/miniconda3/envs/Artificial_Intelligence_and_Machine_Learning/lib/python3.6/site-packages/pandas/io/parsers.py\u001b[0m in \u001b[0;36m_read\u001b[0;34m(filepath_or_buffer, kwds)\u001b[0m\n\u001b[1;32m    455\u001b[0m \u001b[0;34m\u001b[0m\u001b[0m\n\u001b[1;32m    456\u001b[0m     \u001b[0;31m# Create the parser.\u001b[0m\u001b[0;34m\u001b[0m\u001b[0;34m\u001b[0m\u001b[0;34m\u001b[0m\u001b[0m\n\u001b[0;32m--> 457\u001b[0;31m     \u001b[0mparser\u001b[0m \u001b[0;34m=\u001b[0m \u001b[0mTextFileReader\u001b[0m\u001b[0;34m(\u001b[0m\u001b[0mfp_or_buf\u001b[0m\u001b[0;34m,\u001b[0m \u001b[0;34m**\u001b[0m\u001b[0mkwds\u001b[0m\u001b[0;34m)\u001b[0m\u001b[0;34m\u001b[0m\u001b[0;34m\u001b[0m\u001b[0m\n\u001b[0m\u001b[1;32m    458\u001b[0m \u001b[0;34m\u001b[0m\u001b[0m\n\u001b[1;32m    459\u001b[0m     \u001b[0;32mif\u001b[0m \u001b[0mchunksize\u001b[0m \u001b[0;32mor\u001b[0m \u001b[0miterator\u001b[0m\u001b[0;34m:\u001b[0m\u001b[0;34m\u001b[0m\u001b[0;34m\u001b[0m\u001b[0m\n",
      "\u001b[0;32m~/miniconda3/envs/Artificial_Intelligence_and_Machine_Learning/lib/python3.6/site-packages/pandas/io/parsers.py\u001b[0m in \u001b[0;36m__init__\u001b[0;34m(self, f, engine, **kwds)\u001b[0m\n\u001b[1;32m    893\u001b[0m             \u001b[0mself\u001b[0m\u001b[0;34m.\u001b[0m\u001b[0moptions\u001b[0m\u001b[0;34m[\u001b[0m\u001b[0;34m\"has_index_names\"\u001b[0m\u001b[0;34m]\u001b[0m \u001b[0;34m=\u001b[0m \u001b[0mkwds\u001b[0m\u001b[0;34m[\u001b[0m\u001b[0;34m\"has_index_names\"\u001b[0m\u001b[0;34m]\u001b[0m\u001b[0;34m\u001b[0m\u001b[0;34m\u001b[0m\u001b[0m\n\u001b[1;32m    894\u001b[0m \u001b[0;34m\u001b[0m\u001b[0m\n\u001b[0;32m--> 895\u001b[0;31m         \u001b[0mself\u001b[0m\u001b[0;34m.\u001b[0m\u001b[0m_make_engine\u001b[0m\u001b[0;34m(\u001b[0m\u001b[0mself\u001b[0m\u001b[0;34m.\u001b[0m\u001b[0mengine\u001b[0m\u001b[0;34m)\u001b[0m\u001b[0;34m\u001b[0m\u001b[0;34m\u001b[0m\u001b[0m\n\u001b[0m\u001b[1;32m    896\u001b[0m \u001b[0;34m\u001b[0m\u001b[0m\n\u001b[1;32m    897\u001b[0m     \u001b[0;32mdef\u001b[0m \u001b[0mclose\u001b[0m\u001b[0;34m(\u001b[0m\u001b[0mself\u001b[0m\u001b[0;34m)\u001b[0m\u001b[0;34m:\u001b[0m\u001b[0;34m\u001b[0m\u001b[0;34m\u001b[0m\u001b[0m\n",
      "\u001b[0;32m~/miniconda3/envs/Artificial_Intelligence_and_Machine_Learning/lib/python3.6/site-packages/pandas/io/parsers.py\u001b[0m in \u001b[0;36m_make_engine\u001b[0;34m(self, engine)\u001b[0m\n\u001b[1;32m   1133\u001b[0m     \u001b[0;32mdef\u001b[0m \u001b[0m_make_engine\u001b[0m\u001b[0;34m(\u001b[0m\u001b[0mself\u001b[0m\u001b[0;34m,\u001b[0m \u001b[0mengine\u001b[0m\u001b[0;34m=\u001b[0m\u001b[0;34m\"c\"\u001b[0m\u001b[0;34m)\u001b[0m\u001b[0;34m:\u001b[0m\u001b[0;34m\u001b[0m\u001b[0;34m\u001b[0m\u001b[0m\n\u001b[1;32m   1134\u001b[0m         \u001b[0;32mif\u001b[0m \u001b[0mengine\u001b[0m \u001b[0;34m==\u001b[0m \u001b[0;34m\"c\"\u001b[0m\u001b[0;34m:\u001b[0m\u001b[0;34m\u001b[0m\u001b[0;34m\u001b[0m\u001b[0m\n\u001b[0;32m-> 1135\u001b[0;31m             \u001b[0mself\u001b[0m\u001b[0;34m.\u001b[0m\u001b[0m_engine\u001b[0m \u001b[0;34m=\u001b[0m \u001b[0mCParserWrapper\u001b[0m\u001b[0;34m(\u001b[0m\u001b[0mself\u001b[0m\u001b[0;34m.\u001b[0m\u001b[0mf\u001b[0m\u001b[0;34m,\u001b[0m \u001b[0;34m**\u001b[0m\u001b[0mself\u001b[0m\u001b[0;34m.\u001b[0m\u001b[0moptions\u001b[0m\u001b[0;34m)\u001b[0m\u001b[0;34m\u001b[0m\u001b[0;34m\u001b[0m\u001b[0m\n\u001b[0m\u001b[1;32m   1136\u001b[0m         \u001b[0;32melse\u001b[0m\u001b[0;34m:\u001b[0m\u001b[0;34m\u001b[0m\u001b[0;34m\u001b[0m\u001b[0m\n\u001b[1;32m   1137\u001b[0m             \u001b[0;32mif\u001b[0m \u001b[0mengine\u001b[0m \u001b[0;34m==\u001b[0m \u001b[0;34m\"python\"\u001b[0m\u001b[0;34m:\u001b[0m\u001b[0;34m\u001b[0m\u001b[0;34m\u001b[0m\u001b[0m\n",
      "\u001b[0;32m~/miniconda3/envs/Artificial_Intelligence_and_Machine_Learning/lib/python3.6/site-packages/pandas/io/parsers.py\u001b[0m in \u001b[0;36m__init__\u001b[0;34m(self, src, **kwds)\u001b[0m\n\u001b[1;32m   1915\u001b[0m         \u001b[0mkwds\u001b[0m\u001b[0;34m[\u001b[0m\u001b[0;34m\"usecols\"\u001b[0m\u001b[0;34m]\u001b[0m \u001b[0;34m=\u001b[0m \u001b[0mself\u001b[0m\u001b[0;34m.\u001b[0m\u001b[0musecols\u001b[0m\u001b[0;34m\u001b[0m\u001b[0;34m\u001b[0m\u001b[0m\n\u001b[1;32m   1916\u001b[0m \u001b[0;34m\u001b[0m\u001b[0m\n\u001b[0;32m-> 1917\u001b[0;31m         \u001b[0mself\u001b[0m\u001b[0;34m.\u001b[0m\u001b[0m_reader\u001b[0m \u001b[0;34m=\u001b[0m \u001b[0mparsers\u001b[0m\u001b[0;34m.\u001b[0m\u001b[0mTextReader\u001b[0m\u001b[0;34m(\u001b[0m\u001b[0msrc\u001b[0m\u001b[0;34m,\u001b[0m \u001b[0;34m**\u001b[0m\u001b[0mkwds\u001b[0m\u001b[0;34m)\u001b[0m\u001b[0;34m\u001b[0m\u001b[0;34m\u001b[0m\u001b[0m\n\u001b[0m\u001b[1;32m   1918\u001b[0m         \u001b[0mself\u001b[0m\u001b[0;34m.\u001b[0m\u001b[0munnamed_cols\u001b[0m \u001b[0;34m=\u001b[0m \u001b[0mself\u001b[0m\u001b[0;34m.\u001b[0m\u001b[0m_reader\u001b[0m\u001b[0;34m.\u001b[0m\u001b[0munnamed_cols\u001b[0m\u001b[0;34m\u001b[0m\u001b[0;34m\u001b[0m\u001b[0m\n\u001b[1;32m   1919\u001b[0m \u001b[0;34m\u001b[0m\u001b[0m\n",
      "\u001b[0;32mpandas/_libs/parsers.pyx\u001b[0m in \u001b[0;36mpandas._libs.parsers.TextReader.__cinit__\u001b[0;34m()\u001b[0m\n",
      "\u001b[0;32mpandas/_libs/parsers.pyx\u001b[0m in \u001b[0;36mpandas._libs.parsers.TextReader._setup_parser_source\u001b[0;34m()\u001b[0m\n",
      "\u001b[0;31mFileNotFoundError\u001b[0m: [Errno 2] File b'../input/Melbourne_housing_extra_data-18-08-2017.csv' does not exist: b'../input/Melbourne_housing_extra_data-18-08-2017.csv'"
     ]
    }
   ],
   "source": [
    "# Read data\n",
    "dataset = pd.read_csv('../input/Melbourne_housing_extra_data-18-08-2017.csv')"
   ]
  },
  {
   "cell_type": "code",
   "execution_count": null,
   "metadata": {
    "_cell_guid": "55e9c394-9ed0-49d9-ad20-7fe9af3d5373",
    "_execution_state": "idle",
    "_uuid": "8b083c8f2716f631cc584aa992510884ee113365"
   },
   "outputs": [],
   "source": [
    "# Number of rows and columns\n",
    "print(dataset.shape)\n",
    "\n",
    "# View first few records\n",
    "dataset.head()"
   ]
  },
  {
   "cell_type": "markdown",
   "metadata": {
    "_cell_guid": "af84e298-c998-4e4c-9b94-4d085dea70b3",
    "_uuid": "76b2ddec526ee6451ad788fd46e8d2097fb09fd3"
   },
   "source": [
    "### **VARIABLE TYPES**"
   ]
  },
  {
   "cell_type": "markdown",
   "metadata": {
    "_cell_guid": "1dc08b63-8579-4e1a-aca7-475cd267f989",
    "_execution_state": "idle",
    "_uuid": "73c4f7ce42d6e9e62fc3949d25cafafae3b933cc"
   },
   "source": [
    "\n",
    "### **Categorical Variables**  \n",
    "Based on the information below, the following variables: 'Suburb', 'Address', 'Type', 'Method', 'SellerG', 'CouncilArea', 'Regionname' will need to be specified as categories rather than general objects.   \n",
    "\n",
    "In addition, the Date variable will need to be converted to a date object."
   ]
  },
  {
   "cell_type": "code",
   "execution_count": null,
   "metadata": {
    "_cell_guid": "199fbdbe-f381-4ccb-98ea-9baf4c567312",
    "_execution_state": "idle",
    "_uuid": "7db9e9c13b51182147ec87399d1471178841695a"
   },
   "outputs": [],
   "source": [
    "# View data types\n",
    "dataset.info()"
   ]
  },
  {
   "cell_type": "code",
   "execution_count": null,
   "metadata": {
    "_cell_guid": "1021f14f-2133-4772-b8a7-8ccbcbb291d5",
    "_execution_state": "idle",
    "_uuid": "8a7b0fa47c5628455381c24c51dfc286cef4dad6"
   },
   "outputs": [],
   "source": [
    "# Identify object columns\n",
    "print(dataset.select_dtypes(['object']).columns)"
   ]
  },
  {
   "cell_type": "code",
   "execution_count": null,
   "metadata": {
    "_cell_guid": "99ba40e8-d484-420d-8998-de80fa174f21",
    "_execution_state": "idle",
    "_uuid": "f269ea1796b887f047aa5f37063c8c0a95b9e688",
    "collapsed": true
   },
   "outputs": [],
   "source": [
    "# Convert objects to categorical variables\n",
    "obj_cats = ['Suburb', 'Address', 'Type', 'Method', 'SellerG', 'CouncilArea','Regionname']\n",
    "\n",
    "for colname in obj_cats:\n",
    "    dataset[colname] = dataset[colname].astype('category')  "
   ]
  },
  {
   "cell_type": "code",
   "execution_count": null,
   "metadata": {
    "_cell_guid": "453f4e92-5159-4415-a262-52e6f79b1d5b",
    "_execution_state": "idle",
    "_uuid": "716ba23ae096e13948f5fb87708f8357a2ba56ef",
    "collapsed": true
   },
   "outputs": [],
   "source": [
    "# Convert to date object\n",
    "dataset['Date'] = pd.to_datetime(dataset['Date'])"
   ]
  },
  {
   "cell_type": "markdown",
   "metadata": {
    "_cell_guid": "d9fab684-5a97-44a1-8d1f-326db3db9e1b",
    "_execution_state": "idle",
    "_uuid": "1034e588748b2f6f46819ce0542179cea77f6ffe"
   },
   "source": [
    "### **Numeric Variables**\n",
    "A statistical summary of the numeric variables above indicates that Postcode is being treated as numeric when it should be identified as categorical.  This feature will need to be converted to the correct data type."
   ]
  },
  {
   "cell_type": "code",
   "execution_count": null,
   "metadata": {
    "_cell_guid": "b32e897b-4de8-4b09-907c-e82bc828728b",
    "_execution_state": "idle",
    "_uuid": "f0f67a3404e628a82a49886a06eb31fae6ca2eb5"
   },
   "outputs": [],
   "source": [
    "dataset.describe().transpose()"
   ]
  },
  {
   "cell_type": "code",
   "execution_count": null,
   "metadata": {
    "_cell_guid": "56f76d28-47f0-409c-b1f4-efd1c9eb0db7",
    "_execution_state": "idle",
    "_uuid": "fda1a0c40dc728468a2452d33b5604d055c8adf1"
   },
   "outputs": [],
   "source": [
    "# Convert numeric variables to categorical\n",
    "num_cats = ['Postcode']  \n",
    "\n",
    "for colname in num_cats:\n",
    "    dataset[colname] = dataset[colname].astype('category')   \n",
    "\n",
    "# Confirm changes\n",
    "dataset.info()"
   ]
  },
  {
   "cell_type": "markdown",
   "metadata": {
    "_cell_guid": "dabd0e52-b99f-4d98-a3ba-4fce9fccfe0e",
    "_execution_state": "idle",
    "_uuid": "03762bb9db8053a956763917ec8de12be4007ebe"
   },
   "source": [
    "### Duplicate Variables\n",
    "According to dataset documentation, 'Rooms' and 'Bedroom2' both contain information on the number of rooms of a home has, but reported from different sources. I will investigate these columns further to determine if one should be removed from the dataset.  "
   ]
  },
  {
   "cell_type": "code",
   "execution_count": null,
   "metadata": {
    "_cell_guid": "aebe1a5c-7dc2-483f-b1e4-a625edf1d996",
    "_execution_state": "idle",
    "_uuid": "d85a78735a9eaf825a3ce66e53078e9b65fdb36c"
   },
   "outputs": [],
   "source": [
    "# Examine Rooms v Bedroom2\n",
    "dataset['Rooms v Bedroom2'] = dataset['Rooms'] - dataset['Bedroom2']\n",
    "dataset"
   ]
  },
  {
   "cell_type": "markdown",
   "metadata": {
    "_cell_guid": "81b5a8bf-a6a4-41be-ae71-38c90ee35329",
    "_execution_state": "idle",
    "_uuid": "b19ed25a638f1c5a68d528f27083d1ed274901ec"
   },
   "source": [
    "The differences between these variables are minimal so keeping both would only be duplicating information.  Thus, the Bedroom2 feature will be removed from the data set altogether to allow for better analysis downstream.  "
   ]
  },
  {
   "cell_type": "code",
   "execution_count": null,
   "metadata": {
    "_cell_guid": "c217c908-e856-48fe-a9c7-7a1a1267fde3",
    "_execution_state": "idle",
    "_uuid": "29ed645968929020491d7b7a361c567cf64d9c25",
    "collapsed": true
   },
   "outputs": [],
   "source": [
    "# Drop columns\n",
    "dataset = dataset.drop(['Bedroom2','Rooms v Bedroom2'],1)"
   ]
  },
  {
   "cell_type": "markdown",
   "metadata": {
    "_cell_guid": "1280296a-3060-42e1-aa8f-06db95c60ec5",
    "_execution_state": "idle",
    "_uuid": "48c5b88b7bf80fae71a1578c71dae7a494189d15"
   },
   "source": [
    "### **Feature Engineering**\n",
    "The dataset contains the year the home was built. Although this is being measured by the specific year, what this variable is really probing is the age of the home.  As such, home age can be expressed in terms of historic (greater than 50 years old) vs non-historic (less than 50 years old) to get the heart of this information in a more condensed way,  allowing for better analysis and visualization.  "
   ]
  },
  {
   "cell_type": "code",
   "execution_count": null,
   "metadata": {
    "_cell_guid": "8d3a65e4-5c3d-42d0-ab68-922d2a41efc4",
    "_execution_state": "idle",
    "_uuid": "5012ac078a950db42d012a8939242b5cf80179ac",
    "collapsed": true
   },
   "outputs": [],
   "source": [
    "# Add age variable\n",
    "dataset['Age'] = 2017 - dataset['YearBuilt']\n",
    "\n",
    "# Identify historic homes\n",
    "dataset['Historic'] = np.where(dataset['Age']>=50,'Historic','Contemporary')\n",
    "\n",
    "# Convert to Category\n",
    "dataset['Historic'] = dataset['Historic'].astype('category')"
   ]
  },
  {
   "cell_type": "markdown",
   "metadata": {
    "_cell_guid": "c80824c6-6aea-4b91-a322-db664cce556b",
    "_execution_state": "idle",
    "_uuid": "03dfc4d214f6a57513e1f540b948649205f1ae2a"
   },
   "source": [
    "### **MISSING DATA**\n",
    "\n",
    "Based on a quick look at the number of entries for each variable, there appears to be missing information in the dataset. \n",
    "I will explore which features are missing the most information."
   ]
  },
  {
   "cell_type": "code",
   "execution_count": null,
   "metadata": {
    "_cell_guid": "e78d8dcb-466a-4205-a69c-49088467541d",
    "_execution_state": "idle",
    "_uuid": "8b49d927d89ec4212001b2de7f12d9ca9b07a4b9"
   },
   "outputs": [],
   "source": [
    "# Number of entries\n",
    "dataset.info()"
   ]
  },
  {
   "cell_type": "code",
   "execution_count": null,
   "metadata": {
    "_cell_guid": "059e2118-2e07-4822-9df0-47925efd3842",
    "_execution_state": "idle",
    "_uuid": "b3d63ccaf16f612587595897e744da78e51407d9"
   },
   "outputs": [],
   "source": [
    "# Visualize missing values\n",
    "fig, ax = plt.subplots(figsize=(15,7))\n",
    "sns.set(font_scale=1.2)\n",
    "sns.heatmap(dataset.isnull(),yticklabels = False, cbar = False, cmap = 'Greys_r')\n",
    "plt.show()"
   ]
  },
  {
   "cell_type": "code",
   "execution_count": null,
   "metadata": {
    "_cell_guid": "e99d3651-423a-450e-916d-b5e856ace671",
    "_execution_state": "idle",
    "_uuid": "98166d8dbf542a5bd6a6ad14199297583f6b0c13"
   },
   "outputs": [],
   "source": [
    "# Count of missing values\n",
    "dataset.isnull().sum()"
   ]
  },
  {
   "cell_type": "code",
   "execution_count": null,
   "metadata": {
    "_cell_guid": "0084b309-1967-4300-9a50-13d7ddc7aafd",
    "_execution_state": "idle",
    "_uuid": "45fa8d739f1ee66802693c8d6f827bac3ceb393b"
   },
   "outputs": [],
   "source": [
    "# Percentage of missing values\n",
    "dataset.isnull().sum()/len(dataset)*100"
   ]
  },
  {
   "cell_type": "markdown",
   "metadata": {
    "_cell_guid": "2b605560-e09d-46fb-9ebc-1a448803da1c",
    "_execution_state": "idle",
    "_uuid": "22cc69f29596a9496352961a7269b370a61425db"
   },
   "source": [
    "There are a significant amount of missing values in Price, Bathroom, Car, Landsize, Building Area, YearBuilt, Council Area, Lattitude, and Longitude. To allow for a more complete analysis, observations missing any data will be removed from the dataset.  "
   ]
  },
  {
   "cell_type": "code",
   "execution_count": null,
   "metadata": {
    "_cell_guid": "251ab5b0-778f-41bc-81c5-1bcd131501e9",
    "_execution_state": "idle",
    "_uuid": "374364ef11f828e6dbec899e257a700dc62104a4"
   },
   "outputs": [],
   "source": [
    "# View missing data\n",
    "#dataset[dataset['Bedroom2'].isnull()]\n",
    "#To remove rows missing data in a specific column \n",
    "# dataset =dataset[pd.notnull(dataset['Price'])]\n",
    "\n",
    "# To remove an entire column\n",
    "#dataset = dataset.drop('Bedroom2',axis = 1)\n",
    "\n",
    "# Remove rows missing data\n",
    "dataset = dataset.dropna()\n",
    "\n",
    "# Confirm that observations missing data were removed  \n",
    "dataset.info()"
   ]
  },
  {
   "cell_type": "markdown",
   "metadata": {
    "_cell_guid": "40f07c89-8852-4adc-bc40-2165f2adbfba",
    "_execution_state": "idle",
    "_uuid": "75d517cb571844bc38667c14f29dee78e2271eeb"
   },
   "source": [
    "### **OUTLIERS**\n",
    "The statistical summary revealed minimum values of zero for Landsize and BuildingArea that seem odd.  Also, there is a max price of \\$8.4 million in the dataset.  These observations will need to be investigated further to determine their validity and whether they should be included in the dataset for analysis.  "
   ]
  },
  {
   "cell_type": "code",
   "execution_count": null,
   "metadata": {
    "_cell_guid": "6589fb46-594b-41f4-a850-6de1c8d64461",
    "_execution_state": "idle",
    "_uuid": "fa161848e64727f473e2d8cc2f88f29a5e382d70"
   },
   "outputs": [],
   "source": [
    "dataset.describe().transpose()"
   ]
  },
  {
   "cell_type": "code",
   "execution_count": null,
   "metadata": {
    "_cell_guid": "7f023169-e9dd-4a9d-adf1-73de3f45a73d",
    "_execution_state": "idle",
    "_uuid": "1a96baf81fa1351bd6be8a68abb7833ad7f71dde"
   },
   "outputs": [],
   "source": [
    "dataset[dataset['Age']>800]"
   ]
  },
  {
   "cell_type": "code",
   "execution_count": null,
   "metadata": {
    "_cell_guid": "1156fd8d-c9e5-48d2-8aa6-b17cc3d0e8fc",
    "_execution_state": "idle",
    "_uuid": "6742353ac9c03ba7f131f9118e7de7215ff555e1"
   },
   "outputs": [],
   "source": [
    "dataset[dataset['BuildingArea']==0]"
   ]
  },
  {
   "cell_type": "code",
   "execution_count": null,
   "metadata": {
    "_cell_guid": "0194357d-ba9f-49d1-a637-15fce6f3b200",
    "_execution_state": "idle",
    "_uuid": "215523890c4d89757e43c171c4cebbf8395b7c95"
   },
   "outputs": [],
   "source": [
    "dataset[dataset['Landsize']==0]"
   ]
  },
  {
   "cell_type": "markdown",
   "metadata": {
    "_cell_guid": "2a44baac-fcad-4605-a375-1e657abc4bcb",
    "_execution_state": "idle",
    "_uuid": "24a525dc0e0cb61cb0d5214a43576c22475ccdbc"
   },
   "source": [
    "After additional research, I determined that a zero land size could be indicative of 'zero-lot-line' homes - residential real estate in which the structure comes up to or very near the edge of the property line.  Therefore,  these observations are valid and will remain the data set.  \n",
    "\n",
    "However,  the observation with a 'zero'  BuildingArea will be removed because it is not possible for a home to have a size of zero.  Also, this observation is priced usually high at $8.4M (the outlier identified earlier), further confirming a possible error in the data point.  For these two reasons, this observation will be removed."
   ]
  },
  {
   "cell_type": "code",
   "execution_count": null,
   "metadata": {
    "_cell_guid": "da04d697-f82a-470e-b4d3-bc9b73669147",
    "_execution_state": "idle",
    "_uuid": "b3f6ec8241f7f2ef5081d31ca7ceb58a161c13db"
   },
   "outputs": [],
   "source": [
    "# Remove outlier\n",
    "dataset = dataset[dataset['BuildingArea']!=0]\n",
    "\n",
    "# Confirm removal\n",
    "dataset.describe().transpose()"
   ]
  },
  {
   "cell_type": "markdown",
   "metadata": {
    "_cell_guid": "e256b423-deb1-44c8-b03b-e7cd08d6ca50",
    "_execution_state": "idle",
    "_uuid": "3210ecff37f46418464df51d2d98ff4879891117"
   },
   "source": [
    "# **EXPLORATORY ANALYSIS**\n",
    "\n",
    "\n",
    "### **UNIVARIATE**  \n",
    "The dependent (or target) variable we are trying to predict in this analysis is Price.  This variable appears to be normally distributed and skewed to the right.  That is, the majority of homes around \\$900k with some outliers around \\$8M."
   ]
  },
  {
   "cell_type": "code",
   "execution_count": null,
   "metadata": {
    "_cell_guid": "cdac518c-3532-46b2-9848-da67effa7f24",
    "_execution_state": "idle",
    "_uuid": "a1e5530720feb6cc9e1a0d0c9b1e21284b3f865b"
   },
   "outputs": [],
   "source": [
    "plt.figure(figsize=(16,7))\n",
    "sns.distplot(dataset['Price'], kde = False,hist_kws=dict(edgecolor=\"k\"))"
   ]
  },
  {
   "cell_type": "markdown",
   "metadata": {
    "_cell_guid": "6444783d-9b73-4402-ae98-5e2e67468666",
    "_execution_state": "idle",
    "_uuid": "7a73b1fa978cab0ca333a909b274d315d49cb071"
   },
   "source": [
    "### **BIVARIATE**\n",
    "### **Categorical Features**\n",
    "Next, I'll take a look at the relationships between the target variable and the categorical features.   Suburb, Address, and Postcode are measures based on location.  Rather than using all of these features in the analysis, Regionname would be the best proxy of home location to use for analysis that gets to the heart of this information in a more condensed way.  \n",
    "\n",
    "Based on domain knowledge, a home's real estate agent or council member has a minimal effect on a price relative to other features and will be excluded from further analysis.  "
   ]
  },
  {
   "cell_type": "code",
   "execution_count": null,
   "metadata": {
    "_cell_guid": "fb495a9f-26b9-43d8-ad7f-5d8d7c5895c5",
    "_execution_state": "idle",
    "_uuid": "8b5e89afe775cf210f794d93384e605475b29bd2"
   },
   "outputs": [],
   "source": [
    "# Identify categorical features\n",
    "dataset.select_dtypes(['category']).columns"
   ]
  },
  {
   "cell_type": "code",
   "execution_count": null,
   "metadata": {
    "_cell_guid": "e6fb4287-02c2-4ce9-8b5f-587f374e97c8",
    "_execution_state": "idle",
    "_uuid": "9a161f1cbf8a4a2fc634d5ad8b544230bc174c94",
    "collapsed": true
   },
   "outputs": [],
   "source": [
    "# Abbreviate Regionname categories\n",
    "dataset['Regionname'] = dataset['Regionname'].map({'Northern Metropolitan':'N Metro',\n",
    "                                            'Western Metropolitan':'W Metro', \n",
    "                                            'Southern Metropolitan':'S Metro', \n",
    "                                            'Eastern Metropolitan':'E Metro', \n",
    "                                            'South-Eastern Metropolitan':'SE Metro', \n",
    "                                            'Northern Victoria':'N Vic',\n",
    "                                            'Eastern Victoria':'E Vic',\n",
    "                                            'Western Victoria':'W Vic'})"
   ]
  },
  {
   "cell_type": "code",
   "execution_count": null,
   "metadata": {
    "_cell_guid": "eb9f60d3-ea54-4614-9fab-c0192accc933",
    "_execution_state": "idle",
    "_uuid": "cb76c5d4f41ee41a95634c9c06e0d6d58fc0222f"
   },
   "outputs": [],
   "source": [
    "# Suplots of categorical features v price\n",
    "sns.set_style('darkgrid')\n",
    "f, axes = plt.subplots(2,2, figsize = (15,15))\n",
    "\n",
    "# Plot [0,0]\n",
    "sns.boxplot(data = dataset, x = 'Type', y = 'Price', ax = axes[0,0])\n",
    "axes[0,0].set_xlabel('Type')\n",
    "axes[0,0].set_ylabel('Price')\n",
    "axes[0,0].set_title('Type v Price')\n",
    "\n",
    "# Plot [0,1]\n",
    "sns.boxplot(x = 'Method', y = 'Price', data = dataset, ax = axes[0,1])\n",
    "axes[0,1].set_xlabel('Method')\n",
    "#axes[0,1].set_ylabel('Price')\n",
    "axes[0,1].set_title('Method v Price')\n",
    "\n",
    "# Plot [1,0]\n",
    "sns.boxplot(x = 'Regionname', y = 'Price', data = dataset, ax = axes[1,0])\n",
    "axes[1,0].set_xlabel('Regionname')\n",
    "#axes[1,0].set_ylabel('Price')\n",
    "axes[1,0].set_title('Region Name v Price')\n",
    "\n",
    "# Plot [1,1]\n",
    "sns.boxplot(x = 'Historic', y = 'Price', data = dataset, ax = axes[1,1])\n",
    "axes[1,1].set_xlabel('Historic')\n",
    "axes[1,1].set_ylabel('Price')\n",
    "axes[1,1].set_title('Historic v Price')\n",
    "\n",
    "plt.show()"
   ]
  },
  {
   "cell_type": "markdown",
   "metadata": {
    "_cell_guid": "4541bd29-3082-4893-8698-6e81b25b5862",
    "_uuid": "b1b067c5a82f543db6f63237e282a8a5568be0d9"
   },
   "source": [
    "### **Insights**\n",
    "* Median prices for houses are over \\$1M, townhomes are \\$800k - \\$900k and units are approx \\$500k.    \n",
    "* Home prices with different selling methods are relatively the same across the board.    \n",
    "* Median prices in the Metropolitan Region are higher than than that of Victoria Region - with Southern Metro being the area with the highest median home price (~\\$1.3M).  \n",
    "* With an average price of $1M, historic homes (older than 50 years old) are valued much higher than newer homes in the area, but have more variation in price.    "
   ]
  },
  {
   "cell_type": "markdown",
   "metadata": {
    "_cell_guid": "421e24a5-13d3-47e9-b412-5c9111546309",
    "_execution_state": "idle",
    "_uuid": "f9d91a37e605ff34be88a46e2f12bb40623df5e8"
   },
   "source": [
    "### **Numeric Features**\n",
    "Next, I visualize the relationships between numeric features in the dataset and price.  "
   ]
  },
  {
   "cell_type": "code",
   "execution_count": null,
   "metadata": {
    "_cell_guid": "9708193f-1819-4486-b2d3-f7696eb744c5",
    "_execution_state": "idle",
    "_uuid": "38ca0e0219a6c61188f39e9078d1e3b539e4061e"
   },
   "outputs": [],
   "source": [
    "# Identify numeric features\n",
    "dataset.select_dtypes(['float64','int64']).columns"
   ]
  },
  {
   "cell_type": "code",
   "execution_count": null,
   "metadata": {
    "_cell_guid": "f855e634-5f8c-47bf-b93b-543ad22014cf",
    "_execution_state": "idle",
    "_uuid": "159c12e55bc6ad7e554775e39c9d16fff00ce0fc"
   },
   "outputs": [],
   "source": [
    "# Suplots of numeric features v price\n",
    "sns.set_style('darkgrid')\n",
    "f, axes = plt.subplots(4,2, figsize = (20,30))\n",
    "\n",
    "# Plot [0,0]\n",
    "axes[0,0].scatter(x = 'Rooms', y = 'Price', data = dataset, edgecolor = 'b')\n",
    "axes[0,0].set_xlabel('Rooms')\n",
    "axes[0,0].set_ylabel('Price')\n",
    "axes[0,0].set_title('Rooms v Price')\n",
    "\n",
    "# Plot [0,1]\n",
    "axes[0,1].scatter(x = 'Distance', y = 'Price', data = dataset, edgecolor = 'b')\n",
    "axes[0,1].set_xlabel('Distance')\n",
    "# axes[0,1].set_ylabel('Price')\n",
    "axes[0,1].set_title('Distance v Price')\n",
    "\n",
    "# Plot [1,0]\n",
    "axes[1,0].scatter(x = 'Bathroom', y = 'Price', data = dataset, edgecolor = 'b')\n",
    "axes[1,0].set_xlabel('Bathroom')\n",
    "axes[1,0].set_ylabel('Price')\n",
    "axes[1,0].set_title('Bathroom v Price')\n",
    "\n",
    "# Plot [1,1]\n",
    "axes[1,1].scatter(x = 'Car', y = 'Price', data = dataset, edgecolor = 'b')\n",
    "axes[1,0].set_xlabel('Car')\n",
    "axes[1,1].set_ylabel('Price')\n",
    "axes[1,1].set_title('Car v Price')\n",
    "\n",
    "# Plot [2,0]\n",
    "axes[2,0].scatter(x = 'Landsize', y = 'Price', data = dataset, edgecolor = 'b')\n",
    "axes[2,0].set_xlabel('Landsize')\n",
    "axes[2,0].set_ylabel('Price')\n",
    "axes[2,0].set_title('Landsize v  Price')\n",
    "\n",
    "# Plot [2,1]\n",
    "axes[2,1].scatter(x = 'BuildingArea', y = 'Price', data = dataset, edgecolor = 'b')\n",
    "axes[2,1].set_xlabel('BuildingArea')\n",
    "axes[2,1].set_ylabel('BuildingArea')\n",
    "axes[2,1].set_title('BuildingArea v Price')\n",
    "\n",
    "# Plot [3,0]\n",
    "axes[3,0].scatter(x = 'Age', y = 'Price', data = dataset, edgecolor = 'b')\n",
    "axes[3,0].set_xlabel('Age')\n",
    "axes[3,0].set_ylabel('Price')\n",
    "axes[3,0].set_ylabel('Age v Price')\n",
    "\n",
    "# Plot [3,1]\n",
    "axes[3,1].scatter(x = 'Propertycount', y = 'Price', data = dataset, edgecolor = 'b')\n",
    "axes[3,1].set_xlabel('Propertycount')\n",
    "#axes[3,1].set_ylabel('Price')\n",
    "axes[3,1].set_title('Property Count v Price')\n",
    "\n",
    "plt.show()"
   ]
  },
  {
   "cell_type": "code",
   "execution_count": null,
   "metadata": {
    "_cell_guid": "169dc924-aed4-47b1-908d-6fe874aa0dc9",
    "_execution_state": "idle",
    "_uuid": "332a91e268f664b9fff334eea73f84cea6778f65",
    "collapsed": true
   },
   "outputs": [],
   "source": [
    "# Pairplot\n",
    "#sns.pairplot(dataset,vars= ['Rooms', 'Price', 'Distance', 'Bathroom', 'Car', 'Landsize','BuildingArea',  'Propertycount','Age'], palette = 'viridis')"
   ]
  },
  {
   "cell_type": "markdown",
   "metadata": {
    "_cell_guid": "0dd5938a-1df6-4970-8775-b844e8854a17",
    "_uuid": "f03aac5f956097e33ea016397247495c294402d0"
   },
   "source": [
    "**Insights**\n",
    "\n",
    "The majority of homes in the dataset have 4 or 5 rooms.  \n",
    "The most prominent trend is that there is a negative correlation between Distance from Melbourne's Central Business District (CBD) and Price.  The most expensive homes (\\$2M or more) tend to be within 20km of the CBD.\n"
   ]
  },
  {
   "cell_type": "markdown",
   "metadata": {
    "_cell_guid": "977d93b2-a4fb-46fe-a6d9-8d74b37d1f41",
    "_uuid": "1d2603b58d4c0ee675e16589dfd418e14524bf20"
   },
   "source": [
    "# **CORRELATION**\n",
    "Next, I explore how all the variables are correlated with one another.  "
   ]
  },
  {
   "cell_type": "code",
   "execution_count": null,
   "metadata": {
    "_cell_guid": "99b24663-cc03-413a-9f97-cc096e19d699",
    "_execution_state": "idle",
    "_uuid": "b578615bc8d359dac2fbc204378e100941df2802"
   },
   "outputs": [],
   "source": [
    "plt.figure(figsize=(10,6))\n",
    "sns.heatmap(dataset.corr(),cmap = 'coolwarm',linewidth = 1,annot= True, annot_kws={\"size\": 9})\n",
    "plt.title('Variable Correlation')"
   ]
  },
  {
   "cell_type": "markdown",
   "metadata": {
    "_cell_guid": "2b960d9b-6bce-42af-bac2-82858a1b43e6",
    "_uuid": "3487f392753be3f8f42a29380edc0eb28995a06f",
    "collapsed": true
   },
   "source": [
    "**Weak Positive Correlation  **  \n",
    "Age and Price  \n",
    "\n",
    "**Moderate Positive Correlation**   \n",
    "Rooms and Price    \n",
    "Bathrooms and Price    \n",
    "Building Area and Price    \n",
    "\n",
    "The Rooms, Bathroom, and BuildingArea features are also moderately correlated with one another as they are all measures of home size. "
   ]
  },
  {
   "cell_type": "markdown",
   "metadata": {
    "_cell_guid": "9f318ff7-eab2-4fea-b0d4-6aa0433bd500",
    "_uuid": "9b5f9423f723444ff098021daf74cc9e92980ae8"
   },
   "source": [
    "# **LINEAR REGRESSION**"
   ]
  },
  {
   "cell_type": "code",
   "execution_count": null,
   "metadata": {
    "_cell_guid": "a1b9f96d-8eae-4b6f-871a-78bd176da468",
    "_execution_state": "idle",
    "_uuid": "da2064a7fdee81f59a38ae1c4582dfc0121486b8"
   },
   "outputs": [],
   "source": [
    "# Identify numeric features\n",
    "dataset.select_dtypes(['float64','int64']).columns"
   ]
  },
  {
   "cell_type": "code",
   "execution_count": null,
   "metadata": {
    "_cell_guid": "5342f0a9-f305-4d8c-b38a-4f660e066791",
    "_execution_state": "idle",
    "_uuid": "3aa1e05a7383954fd9354b1626a5888a625046cf",
    "collapsed": true
   },
   "outputs": [],
   "source": [
    "# Split\n",
    "# Create features variable \n",
    "X =dataset[['Rooms', 'Distance', 'Bathroom', 'Car', 'Landsize', \n",
    "            'BuildingArea', 'Propertycount','Age']]\n",
    "\n",
    "# Create target variable\n",
    "y = dataset['Price']\n",
    "\n",
    "# Train, test, split\n",
    "from sklearn.model_selection import train_test_split\n",
    "X_train, X_test, y_train, y_test = train_test_split(X,y, test_size = .20, random_state= 0)"
   ]
  },
  {
   "cell_type": "code",
   "execution_count": null,
   "metadata": {
    "_cell_guid": "8a03142e-6d97-470f-8762-982dd3c8ca0c",
    "_execution_state": "idle",
    "_uuid": "a9726c5a7b1049fe12387055b219e253cf442efa"
   },
   "outputs": [],
   "source": [
    "# Fit\n",
    "# Import model\n",
    "from sklearn.linear_model import LinearRegression\n",
    "\n",
    "# Create linear regression object\n",
    "regressor = LinearRegression()\n",
    "\n",
    "# Fit model to training data\n",
    "regressor.fit(X_train,y_train)"
   ]
  },
  {
   "cell_type": "code",
   "execution_count": null,
   "metadata": {
    "_cell_guid": "8771dd7a-8060-49df-b090-479e0481b561",
    "_execution_state": "idle",
    "_uuid": "c7984db415198a9acea0a0477dbdc23f9ca02437",
    "collapsed": true
   },
   "outputs": [],
   "source": [
    "# Predict\n",
    "# Predicting test set results\n",
    "y_pred = regressor.predict(X_test)"
   ]
  },
  {
   "cell_type": "markdown",
   "metadata": {
    "_cell_guid": "df18c5a0-8aa8-4a0a-a2c5-4ede131193ce",
    "_uuid": "f6e3591b0bebd45efad6fb29d3c109c9450f76e3"
   },
   "source": [
    "### **Regression Evaluation Metrics**  \n",
    "Three common evaluation metrics for regresson problems:  \n",
    "1. Mean Absolute Error (MAE)  \n",
    "2. Mean Squared Error (MSE)  \n",
    "3. Root Mean Squared Error (RMSE)  \n",
    "All basic variations on the difference between what you predicted and the true values.  \n",
    "\n",
    "Comparing these metrics:  \n",
    "\n",
    "**MAE** is the easiest to understand, because it's the average error.   \n",
    "**MSE**  more popular than MAE, because MSE \"punishes\" larger errors, tends to be useful in the real world.   \n",
    "**RMSE** is even more popular than MSE, because RMSE is interpretable in the \"y\" units (target units) .   \n",
    "\n",
    "All of these are loss functions, because we want to minimize them.    \n"
   ]
  },
  {
   "cell_type": "code",
   "execution_count": null,
   "metadata": {
    "_cell_guid": "6e327d7e-850d-4b43-9df7-9c7752bb6776",
    "_execution_state": "idle",
    "_uuid": "d3f7b0f715ea8b559cec337e3d1df10b0335e849"
   },
   "outputs": [],
   "source": [
    "# Score It\n",
    "from sklearn import metrics\n",
    "print('MAE:',metrics.mean_absolute_error(y_test,y_pred))\n",
    "print('MSE:',metrics.mean_squared_error(y_test,y_pred))\n",
    "print('RMSE:',np.sqrt(metrics.mean_squared_error(y_test,y_pred)))"
   ]
  },
  {
   "cell_type": "markdown",
   "metadata": {
    "_cell_guid": "709c4667-b7ac-498e-b666-3493a145e529",
    "_uuid": "b6d193b9650a2b293ad9166fa6b314461d55dff6"
   },
   "source": [
    "RMSE tells us explicitly  how much our predictions deviate, on average, from the actual values in the dataset. In this case, our predicted values are \\$508,212.42 away from the actual value."
   ]
  },
  {
   "cell_type": "code",
   "execution_count": null,
   "metadata": {
    "_cell_guid": "6abb398f-d308-49bb-b4e6-3771973b9d2b",
    "_execution_state": "idle",
    "_uuid": "74c9e976507078cef7aee9f78e80640d60e46fd3"
   },
   "outputs": [],
   "source": [
    "# Calculated R Squared\n",
    "print('R^2 =',metrics.explained_variance_score(y_test,y_pred))"
   ]
  },
  {
   "cell_type": "markdown",
   "metadata": {
    "_cell_guid": "ab92955d-9af3-4481-8f0d-65385765ef87",
    "_uuid": "b8b4485d086f7ef6fe8747b51259503581f286a6"
   },
   "source": [
    "According to the R-squared,  47.6% of the variance in the dependent variable is explained by the model. "
   ]
  },
  {
   "cell_type": "markdown",
   "metadata": {
    "_cell_guid": "9369029e-0146-4da1-88e4-44a1fb3091f2",
    "_uuid": "71b58f694cb95ba58357a36e14a5196cf59a8292"
   },
   "source": [
    "### **Analyze the Residuals**"
   ]
  },
  {
   "cell_type": "code",
   "execution_count": null,
   "metadata": {
    "_cell_guid": "e32b0186-4c9b-4950-aff5-2024e9774df5",
    "_execution_state": "idle",
    "_uuid": "408987cee47caace04a20c6717d0d09b211acc3a"
   },
   "outputs": [],
   "source": [
    "# Actual v predictions scatter\n",
    "plt.scatter(y_test, y_pred)"
   ]
  },
  {
   "cell_type": "code",
   "execution_count": null,
   "metadata": {
    "_cell_guid": "8b6f60ca-c636-4337-83c4-a88c9a6818c4",
    "_execution_state": "idle",
    "_uuid": "6571f8232f47868671be6c6594a97cab9fbb9583"
   },
   "outputs": [],
   "source": [
    "# Histogram of the distribution of residuals\n",
    "sns.distplot((y_test - y_pred))"
   ]
  },
  {
   "cell_type": "markdown",
   "metadata": {
    "_cell_guid": "580d5e0e-7fe6-4889-952b-5231e5a5a4dd",
    "_execution_state": "idle",
    "_uuid": "6f61a402d43c1e44bef0cd6ee7aa94ff966c2d6e",
    "collapsed": true
   },
   "source": [
    "### ** Interpreting the Cofficients**"
   ]
  },
  {
   "cell_type": "code",
   "execution_count": null,
   "metadata": {
    "_cell_guid": "691de580-dd4f-4b66-bb90-d86dfe6d2233",
    "_execution_state": "idle",
    "_uuid": "d9c29e537192f37bfa8caa4acad7b0109b4ae8aa"
   },
   "outputs": [],
   "source": [
    "cdf = pd.DataFrame(data = regressor.coef_, index = X.columns, columns = ['Coefficients'])\n",
    "cdf"
   ]
  },
  {
   "cell_type": "markdown",
   "metadata": {
    "_cell_guid": "f572da8f-c34f-4f65-8d30-372e62388fdd",
    "_uuid": "e52114659b1f91a9356bd898c377cd01521e62cb"
   },
   "source": [
    "# **CONCLUSION**"
   ]
  },
  {
   "cell_type": "markdown",
   "metadata": {
    "_cell_guid": "852dd494-c774-4484-8de5-5ee25ac19ad0",
    "_uuid": "d4e5b5de5d8776bb4ebe922bb387e7acc362f06d"
   },
   "source": [
    "Every one unit increase in:\n",
    "- **Rooms** is associated with an increase in Price by \t\\$136,531.55  \n",
    "- **Distance** is associated with a *decrease* in Price by \\$32,160.84  \n",
    "- **Bathroom** is associated with an increase in Price by \\$236,639.21  \n",
    "- **Car** space is associated with an increase in Price by \\$59,122.83  \n",
    "- **Landsize**  is associated with an increase in Price by \\$35.75  \n",
    "- **BuildingArea**  is associated with an increase in Price by \\$26,65.10  \n",
    "- **Propertycount ** is associated with a* decrease* in Price by \\$0.05  \n",
    "- **Age** is associated with an increase in Price by \\$4,729.73  "
   ]
  }
 ],
 "metadata": {
  "kernelspec": {
   "display_name": "Python 3",
   "language": "python",
   "name": "python3"
  },
  "language_info": {
   "codemirror_mode": {
    "name": "ipython",
    "version": 3
   },
   "file_extension": ".py",
   "mimetype": "text/x-python",
   "name": "python",
   "nbconvert_exporter": "python",
   "pygments_lexer": "ipython3",
   "version": "3.6.8"
  }
 },
 "nbformat": 4,
 "nbformat_minor": 1
}
