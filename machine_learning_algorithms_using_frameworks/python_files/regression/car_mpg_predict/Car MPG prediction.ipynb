{
 "cells": [
  {
   "cell_type": "code",
   "execution_count": 2,
   "metadata": {},
   "outputs": [],
   "source": [
    "import pandas as pd\n",
    "import numpy as np\n",
    "import matplotlib.pyplot as plt\n",
    "import seaborn as sns\n",
    "sns.set()\n",
    "import os\n",
    "#os.chdir('.\\\\Desktop\\\\EDUCATE\\\\DATA CSV')\n",
    "from IPython.display import display\n",
    "import statsmodels as sm\n",
    "from statsmodels.stats.outliers_influence import variance_inflation_factor\n",
    "from sklearn.model_selection import train_test_split,GridSearchCV,RandomizedSearchCV\n",
    "from sklearn.linear_model import LinearRegression,Ridge,Lasso\n",
    "from sklearn.tree import DecisionTreeRegressor\n",
    "from sklearn.ensemble import RandomForestRegressor,GradientBoostingRegressor\n",
    "from sklearn.metrics import r2_score,mean_squared_error\n",
    "from sklearn import preprocessing"
   ]
  },
  {
   "cell_type": "code",
   "execution_count": 3,
   "metadata": {},
   "outputs": [
    {
     "data": {
      "text/html": [
       "<div>\n",
       "<style scoped>\n",
       "    .dataframe tbody tr th:only-of-type {\n",
       "        vertical-align: middle;\n",
       "    }\n",
       "\n",
       "    .dataframe tbody tr th {\n",
       "        vertical-align: top;\n",
       "    }\n",
       "\n",
       "    .dataframe thead th {\n",
       "        text-align: right;\n",
       "    }\n",
       "</style>\n",
       "<table border=\"1\" class=\"dataframe\">\n",
       "  <thead>\n",
       "    <tr style=\"text-align: right;\">\n",
       "      <th></th>\n",
       "      <th>mpg</th>\n",
       "      <th>cylinders</th>\n",
       "      <th>displacement</th>\n",
       "      <th>horsepower</th>\n",
       "      <th>weight</th>\n",
       "      <th>acceleration</th>\n",
       "      <th>model</th>\n",
       "      <th>origin</th>\n",
       "      <th>car</th>\n",
       "    </tr>\n",
       "  </thead>\n",
       "  <tbody>\n",
       "    <tr>\n",
       "      <th>0</th>\n",
       "      <td>18.0</td>\n",
       "      <td>8</td>\n",
       "      <td>307</td>\n",
       "      <td>130</td>\n",
       "      <td>3504</td>\n",
       "      <td>12.0</td>\n",
       "      <td>70</td>\n",
       "      <td>1</td>\n",
       "      <td>chevrolet chevelle malibu</td>\n",
       "    </tr>\n",
       "    <tr>\n",
       "      <th>1</th>\n",
       "      <td>15.0</td>\n",
       "      <td>8</td>\n",
       "      <td>350</td>\n",
       "      <td>165</td>\n",
       "      <td>3693</td>\n",
       "      <td>11.5</td>\n",
       "      <td>70</td>\n",
       "      <td>1</td>\n",
       "      <td>buick skylark 320</td>\n",
       "    </tr>\n",
       "    <tr>\n",
       "      <th>2</th>\n",
       "      <td>18.0</td>\n",
       "      <td>8</td>\n",
       "      <td>318</td>\n",
       "      <td>150</td>\n",
       "      <td>3436</td>\n",
       "      <td>11.0</td>\n",
       "      <td>70</td>\n",
       "      <td>1</td>\n",
       "      <td>plymouth satellite</td>\n",
       "    </tr>\n",
       "    <tr>\n",
       "      <th>3</th>\n",
       "      <td>16.0</td>\n",
       "      <td>8</td>\n",
       "      <td>304</td>\n",
       "      <td>150</td>\n",
       "      <td>3433</td>\n",
       "      <td>12.0</td>\n",
       "      <td>70</td>\n",
       "      <td>1</td>\n",
       "      <td>amc rebel sst</td>\n",
       "    </tr>\n",
       "    <tr>\n",
       "      <th>4</th>\n",
       "      <td>17.0</td>\n",
       "      <td>8</td>\n",
       "      <td>302</td>\n",
       "      <td>140</td>\n",
       "      <td>3449</td>\n",
       "      <td>10.5</td>\n",
       "      <td>70</td>\n",
       "      <td>1</td>\n",
       "      <td>ford torino</td>\n",
       "    </tr>\n",
       "  </tbody>\n",
       "</table>\n",
       "</div>"
      ],
      "text/plain": [
       "    mpg  cylinders  displacement horsepower  weight  acceleration  model  \\\n",
       "0  18.0          8           307        130    3504          12.0     70   \n",
       "1  15.0          8           350        165    3693          11.5     70   \n",
       "2  18.0          8           318        150    3436          11.0     70   \n",
       "3  16.0          8           304        150    3433          12.0     70   \n",
       "4  17.0          8           302        140    3449          10.5     70   \n",
       "\n",
       "   origin                        car  \n",
       "0       1  chevrolet chevelle malibu  \n",
       "1       1          buick skylark 320  \n",
       "2       1         plymouth satellite  \n",
       "3       1              amc rebel sst  \n",
       "4       1                ford torino  "
      ]
     },
     "execution_count": 3,
     "metadata": {},
     "output_type": "execute_result"
    }
   ],
   "source": [
    "file1 = 'https://raw.githubusercontent.com/prince381/car_mpg_predict/master/cars1.csv'\n",
    "file2 = 'https://raw.githubusercontent.com/prince381/car_mpg_predict/master/cars2.csv'\n",
    "\n",
    "cars1 = pd.read_csv(file1)   # read in the first data file\n",
    "cars2 = pd.read_csv(file2)   # read in the second data file\n",
    "\n",
    "# we have other columns named unamed which contains only NaN values\n",
    "# so we drop them.\n",
    "cars1.drop(cars1.columns[9:],axis=1,inplace=True) \n",
    "\n",
    "# concatenate the two data\n",
    "cars = pd.concat([cars1,cars2])\n",
    "cars.head()  # print the first five rows of the data"
   ]
  },
  {
   "cell_type": "code",
   "execution_count": 4,
   "metadata": {},
   "outputs": [
    {
     "name": "stdout",
     "output_type": "stream",
     "text": [
      "<class 'pandas.core.frame.DataFrame'>\n",
      "Int64Index: 398 entries, 0 to 199\n",
      "Data columns (total 9 columns):\n",
      "mpg             398 non-null float64\n",
      "cylinders       398 non-null int64\n",
      "displacement    398 non-null int64\n",
      "horsepower      398 non-null object\n",
      "weight          398 non-null int64\n",
      "acceleration    398 non-null float64\n",
      "model           398 non-null int64\n",
      "origin          398 non-null int64\n",
      "car             398 non-null object\n",
      "dtypes: float64(2), int64(5), object(2)\n",
      "memory usage: 31.1+ KB\n"
     ]
    }
   ],
   "source": [
    "# let's see the meaning of the columns of the data\n",
    "# mpg - Milieage/Miles Per Galon\n",
    "# cylinders - the power unit of the car where gasoline is turned into power\n",
    "# displacement - engine displacement of the car\n",
    "# horsepower - rate of the engine performance\n",
    "# weight - the weight of a car\n",
    "# acceleration - the acceleration of a car\n",
    "# model - model of the car\n",
    "# origin - the origin of the car \n",
    "# car - the name of the car\n",
    "\n",
    "cars.info()  # print the info of the data"
   ]
  },
  {
   "cell_type": "code",
   "execution_count": 5,
   "metadata": {},
   "outputs": [
    {
     "data": {
      "text/plain": [
       "array(['130', '165', '150', '140', '198', '220', '215', '225', '190',\n",
       "       '170', '160', '95', '97', '85', '88', '46', '87', '90', '113',\n",
       "       '200', '210', '193', '?', '100', '105', '175', '153', '180', '110',\n",
       "       '72', '86', '70', '76', '65', '69', '60', '80', '54', '208', '155',\n",
       "       '112', '92', '145', '137', '158', '167', '94', '107', '230', '49',\n",
       "       '75', '91', '122', '67', '83', '78', '52', '61', '93', '148',\n",
       "       '129', '96', '71', '98', '115', '53', '81', '79', '120', '152',\n",
       "       '102', '108', '68', '58', '149', '89', '63', '48', '66', '139',\n",
       "       '103', '125', '133', '138', '135', '142', '77', '62', '132', '84',\n",
       "       '64', '74', '116', '82'], dtype=object)"
      ]
     },
     "execution_count": 5,
     "metadata": {},
     "output_type": "execute_result"
    }
   ],
   "source": [
    "# we can see that the horsepower column is an object datatype\n",
    "# let's try to see what the odd value is in the horsepower column\n",
    "cars.horsepower.unique()"
   ]
  },
  {
   "cell_type": "code",
   "execution_count": 6,
   "metadata": {},
   "outputs": [
    {
     "name": "stdout",
     "output_type": "stream",
     "text": [
      "<class 'pandas.core.frame.DataFrame'>\n",
      "Int64Index: 398 entries, 0 to 199\n",
      "Data columns (total 9 columns):\n",
      "mpg             398 non-null float64\n",
      "cylinders       398 non-null int64\n",
      "displacement    398 non-null int64\n",
      "horsepower      398 non-null int64\n",
      "weight          398 non-null int64\n",
      "acceleration    398 non-null float64\n",
      "model           398 non-null int64\n",
      "origin          398 non-null int64\n",
      "car             398 non-null object\n",
      "dtypes: float64(2), int64(6), object(1)\n",
      "memory usage: 31.1+ KB\n"
     ]
    }
   ],
   "source": [
    "# we can see that the odd value is '?' representing null\n",
    "# so we now change it to NaN value and fill the spot with the mean horsepower\n",
    "cars.horsepower = cars.horsepower.str.replace('?','NaN').astype(float)\n",
    "cars.horsepower.fillna(cars.horsepower.mean(),inplace=True)\n",
    "cars.horsepower = cars.horsepower.astype(int)\n",
    "\n",
    "# print the info of the data again to see the datatypes of columns\n",
    "cars.info()"
   ]
  },
  {
   "cell_type": "code",
   "execution_count": 7,
   "metadata": {},
   "outputs": [
    {
     "name": "stdout",
     "output_type": "stream",
     "text": [
      "sum of duplicated values: 0\n",
      "\n",
      "sum of null values: mpg             0\n",
      "cylinders       0\n",
      "displacement    0\n",
      "horsepower      0\n",
      "weight          0\n",
      "acceleration    0\n",
      "model           0\n",
      "origin          0\n",
      "dtype: int64\n"
     ]
    }
   ],
   "source": [
    "# won't be needing the car column so we drop it\n",
    "cars = cars.drop('car',axis=1)\n",
    "\n",
    "# check for duplicates and null values\n",
    "print('sum of duplicated values: {}\\n'.format(cars.duplicated().sum()))\n",
    "print('sum of null values: {}'.format(cars.isnull().sum()))"
   ]
  },
  {
   "cell_type": "code",
   "execution_count": 8,
   "metadata": {},
   "outputs": [
    {
     "data": {
      "text/html": [
       "<div>\n",
       "<style scoped>\n",
       "    .dataframe tbody tr th:only-of-type {\n",
       "        vertical-align: middle;\n",
       "    }\n",
       "\n",
       "    .dataframe tbody tr th {\n",
       "        vertical-align: top;\n",
       "    }\n",
       "\n",
       "    .dataframe thead th {\n",
       "        text-align: right;\n",
       "    }\n",
       "</style>\n",
       "<table border=\"1\" class=\"dataframe\">\n",
       "  <thead>\n",
       "    <tr style=\"text-align: right;\">\n",
       "      <th></th>\n",
       "      <th>mpg</th>\n",
       "      <th>cylinders</th>\n",
       "      <th>displacement</th>\n",
       "      <th>horsepower</th>\n",
       "      <th>weight</th>\n",
       "      <th>acceleration</th>\n",
       "      <th>model</th>\n",
       "      <th>origin</th>\n",
       "    </tr>\n",
       "  </thead>\n",
       "  <tbody>\n",
       "    <tr>\n",
       "      <th>count</th>\n",
       "      <td>398.000000</td>\n",
       "      <td>398.000000</td>\n",
       "      <td>398.000000</td>\n",
       "      <td>398.000000</td>\n",
       "      <td>398.000000</td>\n",
       "      <td>398.000000</td>\n",
       "      <td>398.000000</td>\n",
       "      <td>398.000000</td>\n",
       "    </tr>\n",
       "    <tr>\n",
       "      <th>mean</th>\n",
       "      <td>23.514573</td>\n",
       "      <td>5.454774</td>\n",
       "      <td>193.427136</td>\n",
       "      <td>104.462312</td>\n",
       "      <td>2970.424623</td>\n",
       "      <td>15.568090</td>\n",
       "      <td>76.010050</td>\n",
       "      <td>1.572864</td>\n",
       "    </tr>\n",
       "    <tr>\n",
       "      <th>std</th>\n",
       "      <td>7.815984</td>\n",
       "      <td>1.701004</td>\n",
       "      <td>104.268683</td>\n",
       "      <td>38.199230</td>\n",
       "      <td>846.841774</td>\n",
       "      <td>2.757689</td>\n",
       "      <td>3.697627</td>\n",
       "      <td>0.802055</td>\n",
       "    </tr>\n",
       "    <tr>\n",
       "      <th>min</th>\n",
       "      <td>9.000000</td>\n",
       "      <td>3.000000</td>\n",
       "      <td>68.000000</td>\n",
       "      <td>46.000000</td>\n",
       "      <td>1613.000000</td>\n",
       "      <td>8.000000</td>\n",
       "      <td>70.000000</td>\n",
       "      <td>1.000000</td>\n",
       "    </tr>\n",
       "    <tr>\n",
       "      <th>25%</th>\n",
       "      <td>17.500000</td>\n",
       "      <td>4.000000</td>\n",
       "      <td>104.250000</td>\n",
       "      <td>76.000000</td>\n",
       "      <td>2223.750000</td>\n",
       "      <td>13.825000</td>\n",
       "      <td>73.000000</td>\n",
       "      <td>1.000000</td>\n",
       "    </tr>\n",
       "    <tr>\n",
       "      <th>50%</th>\n",
       "      <td>23.000000</td>\n",
       "      <td>4.000000</td>\n",
       "      <td>148.500000</td>\n",
       "      <td>95.000000</td>\n",
       "      <td>2803.500000</td>\n",
       "      <td>15.500000</td>\n",
       "      <td>76.000000</td>\n",
       "      <td>1.000000</td>\n",
       "    </tr>\n",
       "    <tr>\n",
       "      <th>75%</th>\n",
       "      <td>29.000000</td>\n",
       "      <td>8.000000</td>\n",
       "      <td>262.000000</td>\n",
       "      <td>125.000000</td>\n",
       "      <td>3608.000000</td>\n",
       "      <td>17.175000</td>\n",
       "      <td>79.000000</td>\n",
       "      <td>2.000000</td>\n",
       "    </tr>\n",
       "    <tr>\n",
       "      <th>max</th>\n",
       "      <td>46.600000</td>\n",
       "      <td>8.000000</td>\n",
       "      <td>455.000000</td>\n",
       "      <td>230.000000</td>\n",
       "      <td>5140.000000</td>\n",
       "      <td>24.800000</td>\n",
       "      <td>82.000000</td>\n",
       "      <td>3.000000</td>\n",
       "    </tr>\n",
       "  </tbody>\n",
       "</table>\n",
       "</div>"
      ],
      "text/plain": [
       "              mpg   cylinders  displacement  horsepower       weight  \\\n",
       "count  398.000000  398.000000    398.000000  398.000000   398.000000   \n",
       "mean    23.514573    5.454774    193.427136  104.462312  2970.424623   \n",
       "std      7.815984    1.701004    104.268683   38.199230   846.841774   \n",
       "min      9.000000    3.000000     68.000000   46.000000  1613.000000   \n",
       "25%     17.500000    4.000000    104.250000   76.000000  2223.750000   \n",
       "50%     23.000000    4.000000    148.500000   95.000000  2803.500000   \n",
       "75%     29.000000    8.000000    262.000000  125.000000  3608.000000   \n",
       "max     46.600000    8.000000    455.000000  230.000000  5140.000000   \n",
       "\n",
       "       acceleration       model      origin  \n",
       "count    398.000000  398.000000  398.000000  \n",
       "mean      15.568090   76.010050    1.572864  \n",
       "std        2.757689    3.697627    0.802055  \n",
       "min        8.000000   70.000000    1.000000  \n",
       "25%       13.825000   73.000000    1.000000  \n",
       "50%       15.500000   76.000000    1.000000  \n",
       "75%       17.175000   79.000000    2.000000  \n",
       "max       24.800000   82.000000    3.000000  "
      ]
     },
     "metadata": {},
     "output_type": "display_data"
    }
   ],
   "source": [
    "# let's print the summary statistics of the data\n",
    "display(cars.describe())"
   ]
  },
  {
   "cell_type": "code",
   "execution_count": 9,
   "metadata": {},
   "outputs": [
    {
     "data": {
      "image/png": "[encoded data removed]",
      "text/plain": [
       "<Figure size 864x576 with 9 Axes>"
      ]
     },
     "metadata": {},
     "output_type": "display_data"
    }
   ],
   "source": [
    "# let's visualize the distribution of the features of the cars\n",
    "cars.hist(figsize=(12,8),bins=20)\n",
    "plt.show()"
   ]
  },
  {
   "cell_type": "code",
   "execution_count": 10,
   "metadata": {},
   "outputs": [
    {
     "data": {
      "image/png": "[encoded data removed]",
      "text/plain": [
       "<Figure size 720x432 with 2 Axes>"
      ]
     },
     "metadata": {},
     "output_type": "display_data"
    }
   ],
   "source": [
    "# Let's visualize the relationships between the Mileage Per Galon(mpg) of a car and....\n",
    "#.... the other features.\n",
    "plt.figure(figsize=(10,6))\n",
    "sns.heatmap(cars.corr(),cmap=plt.cm.Reds,annot=True)\n",
    "plt.title('Heatmap displaying the relationship between\\nthe features of the data',\n",
    "         fontsize=13)\n",
    "plt.show()"
   ]
  },
  {
   "cell_type": "code",
   "execution_count": 11,
   "metadata": {},
   "outputs": [
    {
     "name": "stdout",
     "output_type": "stream",
     "text": [
      "Series before feature selection: \n",
      "\n",
      "const           780.806732\n",
      "mpg               5.583604\n",
      "cylinders        10.742595\n",
      "displacement     22.161456\n",
      "horsepower        9.057010\n",
      "weight           13.468497\n",
      "acceleration      2.515892\n",
      "model             1.954983\n",
      "origin            1.853451\n",
      "dtype: float64\n",
      "\n",
      "Series after feature selection: \n",
      "\n",
      "const           715.683761\n",
      "mpg               3.982206\n",
      "horsepower        4.131289\n",
      "acceleration      2.029527\n",
      "model             1.607080\n",
      "origin            1.542532\n",
      "dtype: float64\n"
     ]
    }
   ],
   "source": [
    "# We can also check for multicollinearity using the variance inflation factor.\n",
    "# A variable/feature affected by multicollinearity will have a value greater than 5....\n",
    "#...... when we print out the series from the variance inflation factor\n",
    "# We will have to do a feature selection to get rid of the multicollinearity.\n",
    "\n",
    "X1 = sm.tools.add_constant(cars) \n",
    "\n",
    "series1 = pd.Series([variance_inflation_factor(X1.values,i) for i in range(X1.shape[1])],\n",
    "                  index=X1.columns)\n",
    "\n",
    "# Let's drop the columns that highly correlate with each other\n",
    "newcars = cars.drop(['cylinders','displacement','weight'],axis=1)\n",
    "\n",
    "# Let's do the variance inflation factor method again after doing a feature selection....\n",
    "#..... to see if there's still multicollinearity.\n",
    "X2 = sm.tools.add_constant(newcars)\n",
    "\n",
    "series2 = pd.Series([variance_inflation_factor(X2.values,i) for i in range(X2.shape[1])],\n",
    "                  index=X2.columns)\n",
    "\n",
    "print('Series before feature selection: \\n\\n{}\\n'.format(series1))\n",
    "print('Series after feature selection: \\n\\n{}'.format(series2))"
   ]
  },
  {
   "cell_type": "code",
   "execution_count": 12,
   "metadata": {},
   "outputs": [
    {
     "name": "stdout",
     "output_type": "stream",
     "text": [
      "Correlation between mpg and the remaining variables:\n",
      "\n",
      "mpg             1.000000\n",
      "horsepower     -0.771543\n",
      "acceleration    0.420289\n",
      "model           0.579267\n",
      "origin          0.563450\n",
      "Name: mpg, dtype: float64\n"
     ]
    }
   ],
   "source": [
    "# print the correlation between the mpg and the remaining variables\n",
    "print('Correlation between mpg and the remaining variables:\\n\\n{}'.format(newcars.corr().mpg))"
   ]
  },
  {
   "cell_type": "code",
   "execution_count": null,
   "metadata": {},
   "outputs": [],
   "source": []
  },
  {
   "cell_type": "code",
   "execution_count": 13,
   "metadata": {},
   "outputs": [
    {
     "data": {
      "text/plain": [
       "LinearRegression(copy_X=True, fit_intercept=True, n_jobs=None, normalize=False)"
      ]
     },
     "execution_count": 13,
     "metadata": {},
     "output_type": "execute_result"
    }
   ],
   "source": [
    "X = newcars.drop('mpg',axis=1)  # create a DataFrame of feature/independent variables\n",
    "y = newcars.mpg   # create a series of the dependent variable\n",
    "\n",
    "# the feature/independent variables are not of the same scale so we scale them \n",
    "# this is only neccessary for the LinearRegression,Ridge and Lasso models\n",
    "# scaling the feature variables ensures fast computing.\n",
    "X_scaled = preprocessing.scale(X)\n",
    "\n",
    "# preprocessing.scale() returns a 2-d array not a DataFrame so we make our scaled variables\n",
    "# a DataFrame.\n",
    "X_scaled = pd.DataFrame(X_scaled,columns=X.columns)\n",
    "\n",
    "# split our data into training and testing data\n",
    "X_train,X_test,y_train,y_test = train_test_split(X_scaled,y,test_size=.3,random_state=0)\n",
    "\n",
    "model = LinearRegression()  # initialize the LinearRegression model\n",
    "model.fit(X_train,y_train)  # we fit the model with the training data"
   ]
  },
  {
   "cell_type": "code",
   "execution_count": 14,
   "metadata": {},
   "outputs": [
    {
     "name": "stdout",
     "output_type": "stream",
     "text": [
      "Train score: 0.7553135661809439\n",
      "\n",
      "Test score: 0.7271939488775567\n",
      "\n",
      "Overall model accuracy: 0.7271939488775567\n",
      "\n",
      "Mean Squared Error: 17.43282026200509\n"
     ]
    }
   ],
   "source": [
    "linear_pred = model.predict(X_test)  # make prediction with the fitted model\n",
    "\n",
    "# score the model on the train set\n",
    "print('Train score: {}\\n'.format(model.score(X_train,y_train)))\n",
    "# score the model on the test set\n",
    "print('Test score: {}\\n'.format(model.score(X_test,y_test)))\n",
    "# calculate the overall accuracy of the model\n",
    "print('Overall model accuracy: {}\\n'.format(r2_score(y_test,linear_pred)))\n",
    "# compute the mean squared error of the model\n",
    "print('Mean Squared Error: {}'.format(mean_squared_error(y_test,linear_pred)))"
   ]
  },
  {
   "cell_type": "code",
   "execution_count": 15,
   "metadata": {},
   "outputs": [
    {
     "name": "stdout",
     "output_type": "stream",
     "text": [
      "Train score: 0.7553135647960986\n",
      "\n",
      "Test score: 0.7271921092249626\n",
      "\n",
      "Overall model accuracy: 0.7271921092249626\n",
      "\n",
      "Mean Squared Error: 17.43293781926926\n"
     ]
    }
   ],
   "source": [
    "# let's fit a ridge regression model and see if we can get a higher accuracy\n",
    "ridge = Ridge(alpha=.01)\n",
    "ridge.fit(X_train,y_train)  # fit the model with the training data\n",
    "\n",
    "ridge_pred = ridge.predict(X_test)  # make predictions\n",
    "\n",
    "# score the model to check the accuracy\n",
    "print('Train score: {}\\n'.format(ridge.score(X_train,y_train)))\n",
    "print('Test score: {}\\n'.format(ridge.score(X_test,y_test)))\n",
    "print('Overall model accuracy: {}\\n'.format(r2_score(y_test,ridge_pred)))\n",
    "print('Mean Squared Error: {}'.format(mean_squared_error(y_test,ridge_pred)))"
   ]
  },
  {
   "cell_type": "code",
   "execution_count": 16,
   "metadata": {},
   "outputs": [
    {
     "name": "stderr",
     "output_type": "stream",
     "text": [
      "/Users/guru/miniconda3/envs/Neural_Networks_and_Deep_Learning/lib/python3.6/site-packages/sklearn/model_selection/_search.py:813: DeprecationWarning: The default of the `iid` parameter will change from True to False in version 0.22 and will be removed in 0.24. This will change numeric results when test-set sizes are unequal.\n",
      "  DeprecationWarning)\n"
     ]
    },
    {
     "data": {
      "text/plain": [
       "GridSearchCV(cv=5, error_score='raise-deprecating',\n",
       "             estimator=Ridge(alpha=1.0, copy_X=True, fit_intercept=True,\n",
       "                             max_iter=None, normalize=False, random_state=None,\n",
       "                             solver='auto', tol=0.001),\n",
       "             iid='warn', n_jobs=-1,\n",
       "             param_grid={'alpha': [0, 0.1, 0.01, 0.001, 1]},\n",
       "             pre_dispatch='2*n_jobs', refit=True, return_train_score=False,\n",
       "             scoring=None, verbose=0)"
      ]
     },
     "execution_count": 16,
     "metadata": {},
     "output_type": "execute_result"
    }
   ],
   "source": [
    "# we now try to tune the parameters of the ridge model for a better accuracy\n",
    "# we use a grid search to find the best parameters for the ridge model\n",
    "ridge_model = Ridge()\n",
    "\n",
    "param = {'alpha':[0,0.1,0.01,0.001,1]}  # define the parameters\n",
    "\n",
    "# initialize the grid search\n",
    "ridge_search = GridSearchCV(ridge_model,param,cv=5,n_jobs=-1)\n",
    "\n",
    "ridge_search.fit(X_train,y_train)   # fit the model "
   ]
  },
  {
   "cell_type": "code",
   "execution_count": 17,
   "metadata": {},
   "outputs": [
    {
     "name": "stdout",
     "output_type": "stream",
     "text": [
      "Best parameter found:\n",
      "{'alpha': 1}\n",
      "Train score: 0.7553000451656908\n",
      "\n",
      "Test score: 0.726999466880118\n"
     ]
    }
   ],
   "source": [
    "# print out the best parameter for ridge and score it on the test and train data\n",
    "\n",
    "print('Best parameter found:\\n{}'.format(ridge_search.best_params_))\n",
    "print('Train score: {}\\n'.format(ridge_search.score(X_train,y_train)))\n",
    "print('Test score: {}'.format(ridge_search.score(X_test,y_test)))"
   ]
  },
  {
   "cell_type": "code",
   "execution_count": null,
   "metadata": {},
   "outputs": [],
   "source": []
  },
  {
   "cell_type": "code",
   "execution_count": 18,
   "metadata": {},
   "outputs": [
    {
     "name": "stdout",
     "output_type": "stream",
     "text": [
      "Best parameter found:\n",
      "{'alpha': 0, 'max_iter': 1000}\n",
      "\n",
      "Train score: 0.7553135661809438\n",
      "\n",
      "Test score: 0.7271939488775568\n"
     ]
    },
    {
     "name": "stderr",
     "output_type": "stream",
     "text": [
      "/Users/guru/miniconda3/envs/Neural_Networks_and_Deep_Learning/lib/python3.6/site-packages/sklearn/model_selection/_search.py:813: DeprecationWarning: The default of the `iid` parameter will change from True to False in version 0.22 and will be removed in 0.24. This will change numeric results when test-set sizes are unequal.\n",
      "  DeprecationWarning)\n",
      "/Users/guru/miniconda3/envs/Neural_Networks_and_Deep_Learning/lib/python3.6/site-packages/sklearn/model_selection/_search.py:714: UserWarning: With alpha=0, this algorithm does not converge well. You are advised to use the LinearRegression estimator\n",
      "  self.best_estimator_.fit(X, y, **fit_params)\n",
      "/Users/guru/miniconda3/envs/Neural_Networks_and_Deep_Learning/lib/python3.6/site-packages/sklearn/linear_model/coordinate_descent.py:475: UserWarning: Coordinate descent with no regularization may lead to unexpected results and is discouraged.\n",
      "  positive)\n",
      "/Users/guru/miniconda3/envs/Neural_Networks_and_Deep_Learning/lib/python3.6/site-packages/sklearn/linear_model/coordinate_descent.py:475: ConvergenceWarning: Objective did not converge. You might want to increase the number of iterations. Duality gap: 2026.462648321102, tolerance: 1.6563751546762593\n",
      "  positive)\n"
     ]
    }
   ],
   "source": [
    "# let's try and fit a Lasso model for the regression\n",
    "# here, we just move on to making the grid search and find the best parameters\n",
    "lasso = Lasso()\n",
    "\n",
    "param['max_iter'] = [1000,10000,100000,1000000]\n",
    "\n",
    "lasso_search = GridSearchCV(lasso,param,cv=5,n_jobs=-1) # initialize the grid search\n",
    "\n",
    "lasso_search.fit(X_train,y_train)  # fit the model\n",
    "\n",
    "# print out the best parameters and score it \n",
    "print('Best parameter found:\\n{}\\n'.format(lasso_search.best_params_))\n",
    "print('Train score: {}\\n'.format(lasso_search.score(X_train,y_train)))\n",
    "print('Test score: {}'.format(lasso_search.score(X_test,y_test)))"
   ]
  },
  {
   "cell_type": "code",
   "execution_count": null,
   "metadata": {},
   "outputs": [],
   "source": []
  },
  {
   "cell_type": "code",
   "execution_count": 49,
   "metadata": {},
   "outputs": [],
   "source": [
    "# we move on to using the ensemble methods for the regression\n",
    "# split the unscaled/original X and y data into training and testing data\n",
    "xtrain,xtest,ytrain,ytest = train_test_split(X,y,test_size=.2)"
   ]
  },
  {
   "cell_type": "code",
   "execution_count": 50,
   "metadata": {},
   "outputs": [
    {
     "name": "stderr",
     "output_type": "stream",
     "text": [
      "C:\\Users\\DELL\\Anaconda3\\lib\\site-packages\\sklearn\\model_selection\\_search.py:813: DeprecationWarning: The default of the `iid` parameter will change from True to False in version 0.22 and will be removed in 0.24. This will change numeric results when test-set sizes are unequal.\n",
      "  DeprecationWarning)\n"
     ]
    },
    {
     "data": {
      "text/plain": [
       "GridSearchCV(cv=5, error_score='raise-deprecating',\n",
       "             estimator=DecisionTreeRegressor(criterion='mse', max_depth=None,\n",
       "                                             max_features=None,\n",
       "                                             max_leaf_nodes=None,\n",
       "                                             min_impurity_decrease=0.0,\n",
       "                                             min_impurity_split=None,\n",
       "                                             min_samples_leaf=1,\n",
       "                                             min_samples_split=2,\n",
       "                                             min_weight_fraction_leaf=0.0,\n",
       "                                             presort=False, random_state=None,\n",
       "                                             splitter='best'),\n",
       "             iid='warn', n_jobs=-1,\n",
       "             param_grid={'max_depth': [2, 3, 4, 5, 6, 7],\n",
       "                         'max_features': ['auto', 'sqrt', 'log2'],\n",
       "                         'min_samples_leaf': [1, 2, 3, 4, 5, 6, 7, 8, 9],\n",
       "                         'min_samples_split': [2, 3, 4, 5, 6, 7, 8, 9]},\n",
       "             pre_dispatch='2*n_jobs', refit=True, return_train_score=False,\n",
       "             scoring=None, verbose=0)"
      ]
     },
     "execution_count": 50,
     "metadata": {},
     "output_type": "execute_result"
    }
   ],
   "source": [
    "dtree = DecisionTreeRegressor() # initialize a DecisionTreeRegressor model\n",
    "\n",
    "params = {'max_features':['auto','sqrt','log2'],\n",
    "         'min_samples_split':[2,3,4,5,6,7,8,9],\n",
    "         'min_samples_leaf':[1,2,3,4,5,6,7,8,9],\n",
    "         'max_depth':[2,3,4,5,6,7]}                # define the hyperparameters\n",
    "\n",
    "tree_search = GridSearchCV(dtree,params,cv=5,n_jobs=-1)  # initialize the grid search\n",
    "\n",
    "tree_search.fit(xtrain,ytrain)   # fit the model"
   ]
  },
  {
   "cell_type": "code",
   "execution_count": 51,
   "metadata": {},
   "outputs": [
    {
     "name": "stdout",
     "output_type": "stream",
     "text": [
      "Best parameter found:\n",
      "{'max_depth': 5, 'max_features': 'sqrt', 'min_samples_leaf': 2, 'min_samples_split': 8}\n",
      "\n",
      "Train score: 0.8659010496323457\n",
      "\n",
      "Test score: 0.7924277458046822\n",
      "\n",
      "Overall model accuracy: 0.7924277458046822\n",
      "\n",
      "Mean Squared Error: 11.387723926209835\n"
     ]
    }
   ],
   "source": [
    "tree_pred = tree_search.predict(xtest)  # make predictions with the model\n",
    "\n",
    "# print out the best parameters found and score the model\n",
    "print('Best parameter found:\\n{}\\n'.format(tree_search.best_params_))\n",
    "print('Train score: {}\\n'.format(tree_search.score(xtrain,ytrain)))\n",
    "print('Test score: {}\\n'.format(tree_search.score(xtest,ytest)))\n",
    "print('Overall model accuracy: {}\\n'.format(r2_score(ytest,tree_pred)))\n",
    "print('Mean Squared Error: {}'.format(mean_squared_error(ytest,tree_pred)))"
   ]
  },
  {
   "cell_type": "code",
   "execution_count": null,
   "metadata": {},
   "outputs": [],
   "source": []
  },
  {
   "cell_type": "code",
   "execution_count": 52,
   "metadata": {},
   "outputs": [
    {
     "name": "stderr",
     "output_type": "stream",
     "text": [
      "C:\\Users\\DELL\\Anaconda3\\lib\\site-packages\\sklearn\\model_selection\\_search.py:813: DeprecationWarning: The default of the `iid` parameter will change from True to False in version 0.22 and will be removed in 0.24. This will change numeric results when test-set sizes are unequal.\n",
      "  DeprecationWarning)\n"
     ]
    },
    {
     "data": {
      "text/plain": [
       "RandomizedSearchCV(cv=5, error_score='raise-deprecating',\n",
       "                   estimator=RandomForestRegressor(bootstrap=True,\n",
       "                                                   criterion='mse',\n",
       "                                                   max_depth=None,\n",
       "                                                   max_features='auto',\n",
       "                                                   max_leaf_nodes=None,\n",
       "                                                   min_impurity_decrease=0.0,\n",
       "                                                   min_impurity_split=None,\n",
       "                                                   min_samples_leaf=1,\n",
       "                                                   min_samples_split=2,\n",
       "                                                   min_weight_fraction_leaf=0.0,\n",
       "                                                   n_estimators='warn',\n",
       "                                                   n_jobs=None, oob_score=False,\n",
       "                                                   random_sta...\n",
       "                                                   warm_start=False),\n",
       "                   iid='warn', n_iter=50, n_jobs=-1,\n",
       "                   param_distributions={'max_depth': [2, 3, 4, 5, 6, 7],\n",
       "                                        'max_features': ['auto', 'sqrt',\n",
       "                                                         'log2'],\n",
       "                                        'min_samples_leaf': [1, 2, 3, 4, 5, 6,\n",
       "                                                             7, 8, 9],\n",
       "                                        'min_samples_split': [2, 3, 4, 5, 6, 7,\n",
       "                                                              8, 9],\n",
       "                                        'n_estimators': [100, 200, 300, 400,\n",
       "                                                         500]},\n",
       "                   pre_dispatch='2*n_jobs', random_state=None, refit=True,\n",
       "                   return_train_score=False, scoring=None, verbose=0)"
      ]
     },
     "execution_count": 52,
     "metadata": {},
     "output_type": "execute_result"
    }
   ],
   "source": [
    "# we now fit a RandomForestRegressor model and perform a grid search to find the best \n",
    "# parameters\n",
    "forest = RandomForestRegressor()\n",
    "\n",
    "# we add the n_estimators parameter in our previous parameter dictionary\n",
    "params['n_estimators'] = [100,200,300,400,500]\n",
    "\n",
    "forest_search = RandomizedSearchCV(forest,params,cv=5,n_jobs=-1,     # initialize the search\n",
    "                                  n_iter=50)\n",
    "\n",
    "forest_search.fit(xtrain,ytrain)  # fit the model"
   ]
  },
  {
   "cell_type": "code",
   "execution_count": 53,
   "metadata": {},
   "outputs": [
    {
     "name": "stdout",
     "output_type": "stream",
     "text": [
      "Best parameter found:\n",
      "{'n_estimators': 200, 'min_samples_split': 4, 'min_samples_leaf': 2, 'max_features': 'auto', 'max_depth': 7}\n",
      "\n",
      "Train score: 0.9398968300990964\n",
      "\n",
      "Test score: 0.8047191903918415\n",
      "\n",
      "Overall model accuracy: 0.8047191903918415\n",
      "\n",
      "Mean Squared Error: 10.71339691581293\n"
     ]
    }
   ],
   "source": [
    "forest_pred = forest_search.predict(xtest)  # make prediction with the model\n",
    "\n",
    "# print out the best parameters and score the model\n",
    "print('Best parameter found:\\n{}\\n'.format(forest_search.best_params_))\n",
    "print('Train score: {}\\n'.format(forest_search.score(xtrain,ytrain)))\n",
    "print('Test score: {}\\n'.format(forest_search.score(xtest,ytest)))\n",
    "print('Overall model accuracy: {}\\n'.format(r2_score(ytest,forest_pred)))\n",
    "print('Mean Squared Error: {}'.format(mean_squared_error(ytest,forest_pred)))"
   ]
  },
  {
   "cell_type": "code",
   "execution_count": null,
   "metadata": {},
   "outputs": [],
   "source": []
  },
  {
   "cell_type": "code",
   "execution_count": 59,
   "metadata": {},
   "outputs": [
    {
     "name": "stderr",
     "output_type": "stream",
     "text": [
      "C:\\Users\\DELL\\Anaconda3\\lib\\site-packages\\sklearn\\model_selection\\_search.py:813: DeprecationWarning: The default of the `iid` parameter will change from True to False in version 0.22 and will be removed in 0.24. This will change numeric results when test-set sizes are unequal.\n",
      "  DeprecationWarning)\n"
     ]
    },
    {
     "data": {
      "text/plain": [
       "RandomizedSearchCV(cv=5, error_score='raise-deprecating',\n",
       "                   estimator=GradientBoostingRegressor(alpha=0.9,\n",
       "                                                       criterion='friedman_mse',\n",
       "                                                       init=None,\n",
       "                                                       learning_rate=0.1,\n",
       "                                                       loss='ls', max_depth=3,\n",
       "                                                       max_features=None,\n",
       "                                                       max_leaf_nodes=None,\n",
       "                                                       min_impurity_decrease=0.0,\n",
       "                                                       min_impurity_split=None,\n",
       "                                                       min_samples_leaf=1,\n",
       "                                                       min_samples_split=2,\n",
       "                                                       min_weight_fraction_leaf=0.0,\n",
       "                                                       n_estimators=100,...\n",
       "                   iid='warn', n_iter=50, n_jobs=-1,\n",
       "                   param_distributions={'learning_rate': [0.05, 0.1, 0.2, 0.3,\n",
       "                                                          0.4, 0.5],\n",
       "                                        'max_depth': [2, 3, 4, 5, 6, 7],\n",
       "                                        'max_features': ['auto', 'sqrt',\n",
       "                                                         'log2'],\n",
       "                                        'min_samples_leaf': [1, 2, 3, 4, 5, 6,\n",
       "                                                             7, 8, 9],\n",
       "                                        'min_samples_split': [2, 3, 4, 5, 6, 7,\n",
       "                                                              8, 9],\n",
       "                                        'n_estimators': [100, 200, 300, 400,\n",
       "                                                         500]},\n",
       "                   pre_dispatch='2*n_jobs', random_state=None, refit=True,\n",
       "                   return_train_score=False, scoring=None, verbose=0)"
      ]
     },
     "execution_count": 59,
     "metadata": {},
     "output_type": "execute_result"
    }
   ],
   "source": [
    "# train a GradientBoostingRegressor model\n",
    "\n",
    "gradient_model = GradientBoostingRegressor()  # instantiate the model\n",
    "\n",
    "# append a learning_rate parameter to the parameter dictionary\n",
    "params['learning_rate'] = [0.05,0.1,0.2,0.3,0.4,0.5]\n",
    "\n",
    "gradient_search = RandomizedSearchCV(gradient_model,params,cv=5,n_jobs=-1,\n",
    "                                  n_iter=50)   # initialize the search\n",
    "\n",
    "gradient_search.fit(xtrain,ytrain)   # fit the model"
   ]
  },
  {
   "cell_type": "code",
   "execution_count": 60,
   "metadata": {},
   "outputs": [
    {
     "name": "stdout",
     "output_type": "stream",
     "text": [
      "Best parameter found:\n",
      "{'n_estimators': 100, 'min_samples_split': 2, 'min_samples_leaf': 3, 'max_features': 'auto', 'max_depth': 2, 'learning_rate': 0.1}\n",
      "\n",
      "Train score: 0.9040700029438588\n",
      "\n",
      "Test score: 0.8379811577934175\n",
      "\n",
      "Overall model accuracy: 0.8379811577934175\n",
      "\n",
      "Mean Squared Error: 8.888595699098659\n",
      "\n",
      "Looks like this model is not too overfitted and it has low mean squared error so we use this one........\n"
     ]
    }
   ],
   "source": [
    "gradient_pred = gradient_search.predict(xtest)  # make predictions with the model\n",
    "\n",
    "# print out the best parameters and score the model\n",
    "print('Best parameter found:\\n{}\\n'.format(gradient_search.best_params_))\n",
    "print('Train score: {}\\n'.format(gradient_search.score(xtrain,ytrain)))\n",
    "print('Test score: {}\\n'.format(gradient_search.score(xtest,ytest)))\n",
    "print('Overall model accuracy: {}\\n'.format(r2_score(ytest,gradient_pred)))\n",
    "print('Mean Squared Error: {}\\n'.format(mean_squared_error(ytest,gradient_pred)))\n",
    "print('Looks like this model is not too overfitted and it has low mean squared error \\\n",
    "so we use this one........')"
   ]
  },
  {
   "cell_type": "code",
   "execution_count": 77,
   "metadata": {},
   "outputs": [
    {
     "data": {
      "image/png": "[encoded data removed]",
      "text/plain": [
       "<Figure size 864x576 with 1 Axes>"
      ]
     },
     "metadata": {},
     "output_type": "display_data"
    }
   ],
   "source": [
    "# we will now try to make predictions and see how well our model predicts\n",
    "# we will visualize the actual mpg values recorded and the mpg values predicted by our \n",
    "# model to see how close our predictions are to the actual values.\n",
    "\n",
    "newcars_new = newcars.drop('mpg',axis=1)  # create a new DataFrame of the feature variables\n",
    "\n",
    "# make a DataFrame of the actual mpg and the predicted mpg \n",
    "data = pd.DataFrame({'Actual mpg':newcars.mpg.values,\n",
    "                    'Predicted mpg':gradient_search.predict(newcars_new.values)})\n",
    "\n",
    "\n",
    "# make a scatter plot of the actual and the predicted mpg of a car\n",
    "plt.figure(figsize=(12,8))\n",
    "plt.scatter(data.index,data['Actual mpg'].values,label='Actual mpg')\n",
    "plt.scatter(data.index,data['Predicted mpg'].values,label='Predicted mpg')\n",
    "plt.title('Comapring the Actual mpg values to the Predicted mpg values\\nModel accuracy = 85%',\n",
    "         fontsize=16)\n",
    "plt.xlabel('Car index')\n",
    "plt.ylabel('Mile Per Gallon (mpg)')\n",
    "plt.legend(loc='upper left')\n",
    "plt.show()"
   ]
  },
  {
   "cell_type": "code",
   "execution_count": null,
   "metadata": {},
   "outputs": [],
   "source": [
    "\"\"\"We can see from the above scatter plot that our model made a good predictions\n",
    "   as the values of the actual mpg and the predicted mpg are very close to each\n",
    "   other.\n",
    "   We can confidently say that we have succeeded in training a model that predicts \n",
    "   the Mileage Per Gallon (mpg) of a car given the acceleration,model,origin and \n",
    "   the horsepower of a car.\"\"\""
   ]
  }
 ],
 "metadata": {
  "kernelspec": {
   "display_name": "Python 3",
   "language": "python",
   "name": "python3"
  },
  "language_info": {
   "codemirror_mode": {
    "name": "ipython",
    "version": 3
   },
   "file_extension": ".py",
   "mimetype": "text/x-python",
   "name": "python",
   "nbconvert_exporter": "python",
   "pygments_lexer": "ipython3",
   "version": "3.6.8"
  }
 },
 "nbformat": 4,
 "nbformat_minor": 2
}
