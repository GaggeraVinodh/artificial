{
 "cells": [
  {
   "cell_type": "markdown",
   "metadata": {},
   "source": [
    "# Hyperparameter tuning\n",
    "This notebook explores hyperparameter tuning. It uses the pima indians dataset built into Sklearn."
   ]
  },
  {
   "cell_type": "markdown",
   "metadata": {},
   "source": [
    "## Import"
   ]
  },
  {
   "cell_type": "code",
   "execution_count": 39,
   "metadata": {},
   "outputs": [],
   "source": [
    "# Core libraries\n",
    "import pandas as pd\n",
    "\n",
    "# Sklearn processing\n",
    "from sklearn.preprocessing import MinMaxScaler\n",
    "from sklearn.model_selection import KFold\n",
    "from sklearn.model_selection import GridSearchCV\n",
    "from sklearn.svm import SVC\n",
    "\n",
    "# Sklearn regression algorithms\n",
    "from sklearn.neighbors import KNeighborsClassifier\n",
    "\n",
    "# Sklearn regression model evaluation functions\n",
    "from sklearn.metrics import r2_score"
   ]
  },
  {
   "cell_type": "markdown",
   "metadata": {},
   "source": [
    "## Load data, split into X and y and scale data"
   ]
  },
  {
   "cell_type": "code",
   "execution_count": 40,
   "metadata": {},
   "outputs": [],
   "source": [
    "# Load Boston housing data set\n",
    "dataframe = pd.read_csv(\"..\\..\\..\\datasets\\pima-indians_classification_train.csv\")\n",
    "\n",
    "##names = ['preg', 'plas', 'pres', 'skin', 'test', 'mass', 'pedi', 'age', 'class']\n",
    "array = dataframe.values\n",
    "X = array[:,0:8]\n",
    "y = array[:,8]"
   ]
  },
  {
   "cell_type": "markdown",
   "metadata": {},
   "source": [
    "## Build a model with default hyperparameters"
   ]
  },
  {
   "cell_type": "code",
   "execution_count": 41,
   "metadata": {},
   "outputs": [],
   "source": [
    "# Create an empty model\n",
    "model = SVC()"
   ]
  },
  {
   "cell_type": "code",
   "execution_count": 42,
   "metadata": {},
   "outputs": [
    {
     "data": {
      "text/plain": [
       "SVC()"
      ]
     },
     "execution_count": 42,
     "metadata": {},
     "output_type": "execute_result"
    }
   ],
   "source": [
    "# Inspect the model's default hyperparameters:\n",
    "model"
   ]
  },
  {
   "cell_type": "code",
   "execution_count": 43,
   "metadata": {},
   "outputs": [
    {
     "data": {
      "text/plain": [
       "{'C': 1.0,\n",
       " 'break_ties': False,\n",
       " 'cache_size': 200,\n",
       " 'class_weight': None,\n",
       " 'coef0': 0.0,\n",
       " 'decision_function_shape': 'ovr',\n",
       " 'degree': 3,\n",
       " 'gamma': 'scale',\n",
       " 'kernel': 'rbf',\n",
       " 'max_iter': -1,\n",
       " 'probability': False,\n",
       " 'random_state': None,\n",
       " 'shrinking': True,\n",
       " 'tol': 0.001,\n",
       " 'verbose': False}"
      ]
     },
     "execution_count": 43,
     "metadata": {},
     "output_type": "execute_result"
    }
   ],
   "source": [
    "# What hyperparameters can we tune?\n",
    "model.get_params()"
   ]
  },
  {
   "cell_type": "markdown",
   "metadata": {},
   "source": [
    "## Tune hyperparameters with grid search "
   ]
  },
  {
   "cell_type": "code",
   "execution_count": 44,
   "metadata": {},
   "outputs": [
    {
     "name": "stdout",
     "output_type": "stream",
     "text": [
      "0.7588065529242\n",
      "SVC(C=1, gamma=0.0001)\n",
      "{'C': 1, 'gamma': 0.0001, 'kernel': 'rbf'}\n"
     ]
    }
   ],
   "source": [
    "# Select an algorithm\n",
    "algorithm = SVC()\n",
    "\n",
    "# Create 3 folds\n",
    "seed = 13\n",
    "kfold = KFold(n_splits=5, shuffle=True, random_state=seed)\n",
    "\n",
    "# Define our candidate hyperparameters\n",
    "hp_candidates = [{'C': [0.1, 1, 10, 100, 1000], \n",
    "              'gamma': [1, 0.1, 0.01, 0.001, 0.0001],\n",
    "              'kernel': ['rbf']}]\n",
    "\n",
    "# Search for best hyperparameters\n",
    "grid = GridSearchCV(estimator=algorithm, param_grid=hp_candidates, cv=kfold, scoring='accuracy')\n",
    "grid.fit(X, y)\n",
    "\n",
    "# Get the results\n",
    "print(grid.best_score_)\n",
    "print(grid.best_estimator_)\n",
    "print(grid.best_params_)"
   ]
  },
  {
   "cell_type": "markdown",
   "metadata": {},
   "source": [
    "### Get a full breakdown of the grid search"
   ]
  },
  {
   "cell_type": "code",
   "execution_count": 45,
   "metadata": {
    "scrolled": false
   },
   "outputs": [
    {
     "data": {
      "text/plain": [
       "{'mean_fit_time': array([0.03538008, 0.0309823 , 0.02178864, 0.01199298, 0.00998716,\n",
       "        0.03278069, 0.03258104, 0.02458544, 0.01379242, 0.00919032,\n",
       "        0.03917794, 0.03698182, 0.0269733 , 0.0175899 , 0.01118908,\n",
       "        0.04576945, 0.0387814 , 0.02678485, 0.03737655, 0.02578087,\n",
       "        0.03857818, 0.03596649, 0.02719321, 0.06895566, 0.12232103]),\n",
       " 'std_fit_time': array([0.00393034, 0.00166662, 0.00097987, 0.00089849, 0.00062696,\n",
       "        0.00098853, 0.00241937, 0.00101403, 0.00075916, 0.00074372,\n",
       "        0.00146059, 0.00061972, 0.00062612, 0.00101094, 0.000402  ,\n",
       "        0.00696856, 0.00160052, 0.0004099 , 0.00325644, 0.00240408,\n",
       "        0.00080015, 0.00090363, 0.00039485, 0.00998214, 0.01378159]),\n",
       " 'mean_score_time': array([0.00819445, 0.00619578, 0.00379987, 0.00239859, 0.00220137,\n",
       "        0.0073966 , 0.006604  , 0.00319772, 0.00239835, 0.0020031 ,\n",
       "        0.00739069, 0.00639777, 0.0032052 , 0.00220246, 0.00219798,\n",
       "        0.00720005, 0.00639586, 0.00359316, 0.00239944, 0.00199857,\n",
       "        0.00699978, 0.00720854, 0.00339317, 0.00220361, 0.00179968]),\n",
       " 'std_score_time': array([2.47875392e-03, 7.48138005e-04, 7.45335472e-04, 4.81822055e-04,\n",
       "        4.06241427e-04, 1.02001126e-03, 1.19603479e-03, 3.99804240e-04,\n",
       "        4.89804534e-04, 8.75564437e-06, 4.85011943e-04, 7.99141342e-04,\n",
       "        3.95595314e-04, 4.08197880e-04, 3.99947461e-04, 7.40748122e-04,\n",
       "        4.89259263e-04, 7.92905287e-04, 4.90660755e-04, 6.25952160e-04,\n",
       "        8.44338452e-06, 1.17401421e-03, 4.84481946e-04, 3.98304068e-04,\n",
       "        3.99875669e-04]),\n",
       " 'param_C': masked_array(data=[0.1, 0.1, 0.1, 0.1, 0.1, 1, 1, 1, 1, 1, 10, 10, 10, 10,\n",
       "                    10, 100, 100, 100, 100, 100, 1000, 1000, 1000, 1000,\n",
       "                    1000],\n",
       "              mask=[False, False, False, False, False, False, False, False,\n",
       "                    False, False, False, False, False, False, False, False,\n",
       "                    False, False, False, False, False, False, False, False,\n",
       "                    False],\n",
       "        fill_value='?',\n",
       "             dtype=object),\n",
       " 'param_gamma': masked_array(data=[1, 0.1, 0.01, 0.001, 0.0001, 1, 0.1, 0.01, 0.001,\n",
       "                    0.0001, 1, 0.1, 0.01, 0.001, 0.0001, 1, 0.1, 0.01,\n",
       "                    0.001, 0.0001, 1, 0.1, 0.01, 0.001, 0.0001],\n",
       "              mask=[False, False, False, False, False, False, False, False,\n",
       "                    False, False, False, False, False, False, False, False,\n",
       "                    False, False, False, False, False, False, False, False,\n",
       "                    False],\n",
       "        fill_value='?',\n",
       "             dtype=object),\n",
       " 'param_kernel': masked_array(data=['rbf', 'rbf', 'rbf', 'rbf', 'rbf', 'rbf', 'rbf', 'rbf',\n",
       "                    'rbf', 'rbf', 'rbf', 'rbf', 'rbf', 'rbf', 'rbf', 'rbf',\n",
       "                    'rbf', 'rbf', 'rbf', 'rbf', 'rbf', 'rbf', 'rbf', 'rbf',\n",
       "                    'rbf'],\n",
       "              mask=[False, False, False, False, False, False, False, False,\n",
       "                    False, False, False, False, False, False, False, False,\n",
       "                    False, False, False, False, False, False, False, False,\n",
       "                    False],\n",
       "        fill_value='?',\n",
       "             dtype=object),\n",
       " 'params': [{'C': 0.1, 'gamma': 1, 'kernel': 'rbf'},\n",
       "  {'C': 0.1, 'gamma': 0.1, 'kernel': 'rbf'},\n",
       "  {'C': 0.1, 'gamma': 0.01, 'kernel': 'rbf'},\n",
       "  {'C': 0.1, 'gamma': 0.001, 'kernel': 'rbf'},\n",
       "  {'C': 0.1, 'gamma': 0.0001, 'kernel': 'rbf'},\n",
       "  {'C': 1, 'gamma': 1, 'kernel': 'rbf'},\n",
       "  {'C': 1, 'gamma': 0.1, 'kernel': 'rbf'},\n",
       "  {'C': 1, 'gamma': 0.01, 'kernel': 'rbf'},\n",
       "  {'C': 1, 'gamma': 0.001, 'kernel': 'rbf'},\n",
       "  {'C': 1, 'gamma': 0.0001, 'kernel': 'rbf'},\n",
       "  {'C': 10, 'gamma': 1, 'kernel': 'rbf'},\n",
       "  {'C': 10, 'gamma': 0.1, 'kernel': 'rbf'},\n",
       "  {'C': 10, 'gamma': 0.01, 'kernel': 'rbf'},\n",
       "  {'C': 10, 'gamma': 0.001, 'kernel': 'rbf'},\n",
       "  {'C': 10, 'gamma': 0.0001, 'kernel': 'rbf'},\n",
       "  {'C': 100, 'gamma': 1, 'kernel': 'rbf'},\n",
       "  {'C': 100, 'gamma': 0.1, 'kernel': 'rbf'},\n",
       "  {'C': 100, 'gamma': 0.01, 'kernel': 'rbf'},\n",
       "  {'C': 100, 'gamma': 0.001, 'kernel': 'rbf'},\n",
       "  {'C': 100, 'gamma': 0.0001, 'kernel': 'rbf'},\n",
       "  {'C': 1000, 'gamma': 1, 'kernel': 'rbf'},\n",
       "  {'C': 1000, 'gamma': 0.1, 'kernel': 'rbf'},\n",
       "  {'C': 1000, 'gamma': 0.01, 'kernel': 'rbf'},\n",
       "  {'C': 1000, 'gamma': 0.001, 'kernel': 'rbf'},\n",
       "  {'C': 1000, 'gamma': 0.0001, 'kernel': 'rbf'}],\n",
       " 'split0_test_score': array([0.66233766, 0.66233766, 0.66233766, 0.68181818, 0.71428571,\n",
       "        0.66233766, 0.66233766, 0.67532468, 0.72077922, 0.74675325,\n",
       "        0.66233766, 0.66233766, 0.63636364, 0.69480519, 0.75974026,\n",
       "        0.66233766, 0.66233766, 0.63636364, 0.66233766, 0.74025974,\n",
       "        0.66233766, 0.66233766, 0.63636364, 0.67532468, 0.74025974]),\n",
       " 'split1_test_score': array([0.5974026 , 0.5974026 , 0.5974026 , 0.61688312, 0.70779221,\n",
       "        0.5974026 , 0.5974026 , 0.61688312, 0.72077922, 0.76623377,\n",
       "        0.5974026 , 0.5974026 , 0.6038961 , 0.69480519, 0.74675325,\n",
       "        0.5974026 , 0.5974026 , 0.6038961 , 0.68181818, 0.72727273,\n",
       "        0.5974026 , 0.5974026 , 0.6038961 , 0.64935065, 0.7012987 ]),\n",
       " 'split2_test_score': array([0.67320261, 0.67320261, 0.67320261, 0.69281046, 0.74509804,\n",
       "        0.67320261, 0.67320261, 0.67973856, 0.73202614, 0.73202614,\n",
       "        0.67320261, 0.67973856, 0.67320261, 0.7254902 , 0.7254902 ,\n",
       "        0.67320261, 0.67973856, 0.67320261, 0.68627451, 0.71895425,\n",
       "        0.67320261, 0.67973856, 0.67320261, 0.67973856, 0.68627451]),\n",
       " 'split3_test_score': array([0.65359477, 0.65359477, 0.65359477, 0.67320261, 0.73856209,\n",
       "        0.65359477, 0.65359477, 0.63398693, 0.73202614, 0.76470588,\n",
       "        0.65359477, 0.65359477, 0.62091503, 0.73202614, 0.75816993,\n",
       "        0.65359477, 0.65359477, 0.62091503, 0.68627451, 0.77124183,\n",
       "        0.65359477, 0.65359477, 0.62091503, 0.68627451, 0.74509804]),\n",
       " 'split4_test_score': array([0.67320261, 0.67320261, 0.67320261, 0.69281046, 0.77124183,\n",
       "        0.67320261, 0.67320261, 0.69281046, 0.73856209, 0.78431373,\n",
       "        0.67320261, 0.67973856, 0.66666667, 0.66666667, 0.78431373,\n",
       "        0.67320261, 0.67973856, 0.66666667, 0.64705882, 0.77777778,\n",
       "        0.67320261, 0.67973856, 0.66666667, 0.64705882, 0.73856209]),\n",
       " 'mean_test_score': array([0.65194805, 0.65194805, 0.65194805, 0.67150497, 0.73539598,\n",
       "        0.65194805, 0.65194805, 0.65974875, 0.72883456, 0.75880655,\n",
       "        0.65194805, 0.65456243, 0.64020881, 0.70275868, 0.75489347,\n",
       "        0.65194805, 0.65456243, 0.64020881, 0.67275274, 0.74710126,\n",
       "        0.65194805, 0.65456243, 0.64020881, 0.66754944, 0.72229862]),\n",
       " 'std_test_score': array([0.02824668, 0.02824668, 0.02824668, 0.02828653, 0.02278899,\n",
       "        0.02824668, 0.02824668, 0.02910812, 0.00699677, 0.01790561,\n",
       "        0.02824668, 0.03031934, 0.0264358 , 0.02367469, 0.01913423,\n",
       "        0.02824668, 0.03031934, 0.0264358 , 0.01559814, 0.02347785,\n",
       "        0.02824668, 0.03031934, 0.0264358 , 0.01619085, 0.02385644]),\n",
       " 'rank_test_score': array([15, 15, 15,  9,  4, 15, 15, 11,  5,  1, 15, 12, 23,  7,  2, 15, 12,\n",
       "        23,  8,  3, 15, 12, 23, 10,  6])}"
      ]
     },
     "execution_count": 45,
     "metadata": {},
     "output_type": "execute_result"
    }
   ],
   "source": [
    "grid.cv_results_"
   ]
  },
  {
   "cell_type": "markdown",
   "metadata": {},
   "source": [
    "### Prove that best_score_ is the mean of all the k-fold scores\n",
    "Here's a little check to see how best_score_ is derived from cv_results_"
   ]
  },
  {
   "cell_type": "code",
   "execution_count": 46,
   "metadata": {},
   "outputs": [
    {
     "data": {
      "text/plain": [
       "9"
      ]
     },
     "execution_count": 46,
     "metadata": {},
     "output_type": "execute_result"
    }
   ],
   "source": [
    "# Get the index of the best hyperparameter combination chosen by GridSearchCv()\n",
    "grid.best_index_"
   ]
  },
  {
   "cell_type": "code",
   "execution_count": 47,
   "metadata": {},
   "outputs": [
    {
     "name": "stdout",
     "output_type": "stream",
     "text": [
      "0.7588065529242\n",
      "0.017905607728119634\n"
     ]
    }
   ],
   "source": [
    "# Get the mean and std of the k-fold scores for the best hyperparameter combination\n",
    "print(grid.cv_results_['mean_test_score'][grid.best_index_])\n",
    "print(grid.cv_results_['std_test_score'][grid.best_index_])"
   ]
  },
  {
   "cell_type": "code",
   "execution_count": null,
   "metadata": {},
   "outputs": [],
   "source": []
  }
 ],
 "metadata": {
  "kernelspec": {
   "display_name": "Python 3",
   "language": "python",
   "name": "python3"
  },
  "language_info": {
   "codemirror_mode": {
    "name": "ipython",
    "version": 3
   },
   "file_extension": ".py",
   "mimetype": "text/x-python",
   "name": "python",
   "nbconvert_exporter": "python",
   "pygments_lexer": "ipython3",
   "version": "3.8.5"
  }
 },
 "nbformat": 4,
 "nbformat_minor": 2
}
