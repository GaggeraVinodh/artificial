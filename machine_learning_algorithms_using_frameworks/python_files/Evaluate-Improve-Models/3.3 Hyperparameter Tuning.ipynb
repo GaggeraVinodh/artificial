{
 "cells": [
  {
   "cell_type": "markdown",
   "metadata": {},
   "source": [
    "# Hyperparameter tuning\n",
    "This notebook explores hyperparameter tuning. It uses the boston house price dataset built into Sklearn."
   ]
  },
  {
   "cell_type": "markdown",
   "metadata": {},
   "source": [
    "## Import"
   ]
  },
  {
   "cell_type": "code",
   "execution_count": 1,
   "metadata": {},
   "outputs": [],
   "source": [
    "# Core libraries\n",
    "import pandas as pd\n",
    "\n",
    "# Sklearn processing\n",
    "from sklearn.preprocessing import MinMaxScaler\n",
    "from sklearn.model_selection import KFold\n",
    "from sklearn.model_selection import GridSearchCV\n",
    "\n",
    "# Sklearn regression algorithms\n",
    "from sklearn.neighbors import KNeighborsRegressor\n",
    "\n",
    "# Sklearn regression model evaluation functions\n",
    "from sklearn.metrics import r2_score"
   ]
  },
  {
   "cell_type": "markdown",
   "metadata": {},
   "source": [
    "## Load data, split into X and y and scale data"
   ]
  },
  {
   "cell_type": "code",
   "execution_count": 2,
   "metadata": {},
   "outputs": [],
   "source": [
    "# Load Boston housing data set\n",
    "boston = pd.read_csv(\"boston.csv\")\n",
    "\n",
    "# Define the X (input) and y (target) features\n",
    "X = boston.drop(\"MEDV\", axis=1)\n",
    "y = boston[\"MEDV\"]\n",
    "\n",
    "# Rescale the input features\n",
    "scaler = MinMaxScaler(feature_range=(0,1))\n",
    "X = scaler.fit_transform(X)"
   ]
  },
  {
   "cell_type": "markdown",
   "metadata": {},
   "source": [
    "## Build a model with default hyperparameters"
   ]
  },
  {
   "cell_type": "code",
   "execution_count": 3,
   "metadata": {},
   "outputs": [],
   "source": [
    "# Create an empty model\n",
    "model = KNeighborsRegressor()"
   ]
  },
  {
   "cell_type": "code",
   "execution_count": 4,
   "metadata": {},
   "outputs": [
    {
     "data": {
      "text/plain": [
       "KNeighborsRegressor()"
      ]
     },
     "execution_count": 4,
     "metadata": {},
     "output_type": "execute_result"
    }
   ],
   "source": [
    "# Inspect the model's default hyperparameters:\n",
    "model"
   ]
  },
  {
   "cell_type": "code",
   "execution_count": 5,
   "metadata": {},
   "outputs": [
    {
     "data": {
      "text/plain": [
       "{'algorithm': 'auto',\n",
       " 'leaf_size': 30,\n",
       " 'metric': 'minkowski',\n",
       " 'metric_params': None,\n",
       " 'n_jobs': None,\n",
       " 'n_neighbors': 5,\n",
       " 'p': 2,\n",
       " 'weights': 'uniform'}"
      ]
     },
     "execution_count": 5,
     "metadata": {},
     "output_type": "execute_result"
    }
   ],
   "source": [
    "# What hyperparameters can we tune?\n",
    "model.get_params()"
   ]
  },
  {
   "cell_type": "markdown",
   "metadata": {},
   "source": [
    "## Tune hyperparameters with grid search "
   ]
  },
  {
   "cell_type": "code",
   "execution_count": 6,
   "metadata": {},
   "outputs": [
    {
     "name": "stdout",
     "output_type": "stream",
     "text": [
      "0.7664342242670098\n",
      "KNeighborsRegressor(n_neighbors=3, weights='distance')\n",
      "{'n_neighbors': 3, 'weights': 'distance'}\n"
     ]
    }
   ],
   "source": [
    "# Select an algorithm\n",
    "algorithm = KNeighborsRegressor()\n",
    "\n",
    "# Create 3 folds\n",
    "seed = 13\n",
    "kfold = KFold(n_splits=3, shuffle=True, random_state=seed)\n",
    "\n",
    "# Define our candidate hyperparameters\n",
    "hp_candidates = [{'n_neighbors': [2,3,4,5,6], 'weights': ['uniform','distance']}]\n",
    "\n",
    "# Search for best hyperparameters\n",
    "grid = GridSearchCV(estimator=algorithm, param_grid=hp_candidates, cv=kfold, scoring='r2')\n",
    "grid.fit(X, y)\n",
    "\n",
    "# Get the results\n",
    "print(grid.best_score_)\n",
    "print(grid.best_estimator_)\n",
    "print(grid.best_params_)"
   ]
  },
  {
   "cell_type": "markdown",
   "metadata": {},
   "source": [
    "### Get a full breakdown of the grid search"
   ]
  },
  {
   "cell_type": "code",
   "execution_count": 7,
   "metadata": {
    "scrolled": false
   },
   "outputs": [
    {
     "data": {
      "text/plain": [
       "{'mean_fit_time': array([0.00366489, 0.0019908 , 0.00133332, 0.00133204, 0.00166535,\n",
       "        0.00266425, 0.00200129, 0.0033323 , 0.00166599, 0.00133316]),\n",
       " 'std_fit_time': array([4.73000122e-04, 8.15444962e-04, 4.72157255e-04, 4.70527427e-04,\n",
       "        4.70696366e-04, 4.72494310e-04, 2.36022352e-06, 1.24823335e-03,\n",
       "        4.71482745e-04, 4.71089385e-04]),\n",
       " 'mean_score_time': array([0.00366489, 0.0033466 , 0.00298985, 0.00333158, 0.00299994,\n",
       "        0.00466426, 0.00532818, 0.00366561, 0.00299756, 0.0026648 ]),\n",
       " 'std_score_time': array([1.24704535e-03, 4.58276991e-04, 8.17162799e-04, 9.43358987e-04,\n",
       "        2.65015475e-06, 4.71426640e-04, 4.73394403e-04, 1.24717123e-03,\n",
       "        5.94720425e-07, 4.70696044e-04]),\n",
       " 'param_n_neighbors': masked_array(data=[2, 2, 3, 3, 4, 4, 5, 5, 6, 6],\n",
       "              mask=[False, False, False, False, False, False, False, False,\n",
       "                    False, False],\n",
       "        fill_value='?',\n",
       "             dtype=object),\n",
       " 'param_weights': masked_array(data=['uniform', 'distance', 'uniform', 'distance',\n",
       "                    'uniform', 'distance', 'uniform', 'distance',\n",
       "                    'uniform', 'distance'],\n",
       "              mask=[False, False, False, False, False, False, False, False,\n",
       "                    False, False],\n",
       "        fill_value='?',\n",
       "             dtype=object),\n",
       " 'params': [{'n_neighbors': 2, 'weights': 'uniform'},\n",
       "  {'n_neighbors': 2, 'weights': 'distance'},\n",
       "  {'n_neighbors': 3, 'weights': 'uniform'},\n",
       "  {'n_neighbors': 3, 'weights': 'distance'},\n",
       "  {'n_neighbors': 4, 'weights': 'uniform'},\n",
       "  {'n_neighbors': 4, 'weights': 'distance'},\n",
       "  {'n_neighbors': 5, 'weights': 'uniform'},\n",
       "  {'n_neighbors': 5, 'weights': 'distance'},\n",
       "  {'n_neighbors': 6, 'weights': 'uniform'},\n",
       "  {'n_neighbors': 6, 'weights': 'distance'}],\n",
       " 'split0_test_score': array([0.71182154, 0.73589542, 0.68184239, 0.74101304, 0.64785817,\n",
       "        0.729579  , 0.66817052, 0.73719066, 0.66533935, 0.74042643]),\n",
       " 'split1_test_score': array([0.76318262, 0.77780142, 0.74382697, 0.77708078, 0.70488213,\n",
       "        0.76221597, 0.689097  , 0.74780584, 0.67874438, 0.73851619]),\n",
       " 'split2_test_score': array([0.74250279, 0.75444975, 0.75313776, 0.78120886, 0.73761222,\n",
       "        0.7789678 , 0.71148822, 0.76685992, 0.69090447, 0.75854706]),\n",
       " 'mean_test_score': array([0.73916898, 0.75604887, 0.72626904, 0.76643422, 0.69678417,\n",
       "        0.75692092, 0.68958525, 0.7506188 , 0.6783294 , 0.74582989]),\n",
       " 'std_test_score': array([0.02110017, 0.01714538, 0.03164351, 0.01805432, 0.03708666,\n",
       "        0.02050759, 0.01768775, 0.01227466, 0.01044104, 0.00902615]),\n",
       " 'rank_test_score': array([ 6,  3,  7,  1,  8,  2,  9,  4, 10,  5])}"
      ]
     },
     "execution_count": 7,
     "metadata": {},
     "output_type": "execute_result"
    }
   ],
   "source": [
    "grid.cv_results_"
   ]
  },
  {
   "cell_type": "markdown",
   "metadata": {},
   "source": [
    "### Prove that best_score_ is the mean of all the k-fold scores\n",
    "Here's a little check to see how best_score_ is derived from cv_results_"
   ]
  },
  {
   "cell_type": "code",
   "execution_count": 8,
   "metadata": {},
   "outputs": [
    {
     "data": {
      "text/plain": [
       "3"
      ]
     },
     "execution_count": 8,
     "metadata": {},
     "output_type": "execute_result"
    }
   ],
   "source": [
    "# Get the index of the best hyperparameter combination chosen by GridSearchCv()\n",
    "grid.best_index_"
   ]
  },
  {
   "cell_type": "code",
   "execution_count": 9,
   "metadata": {},
   "outputs": [
    {
     "name": "stdout",
     "output_type": "stream",
     "text": [
      "0.7664342242670098\n",
      "0.018054321344618637\n"
     ]
    }
   ],
   "source": [
    "# Get the mean and std of the k-fold scores for the best hyperparameter combination\n",
    "print(grid.cv_results_['mean_test_score'][grid.best_index_])\n",
    "print(grid.cv_results_['std_test_score'][grid.best_index_])"
   ]
  },
  {
   "cell_type": "code",
   "execution_count": null,
   "metadata": {},
   "outputs": [],
   "source": []
  }
 ],
 "metadata": {
  "kernelspec": {
   "display_name": "Python 3",
   "language": "python",
   "name": "python3"
  },
  "language_info": {
   "codemirror_mode": {
    "name": "ipython",
    "version": 3
   },
   "file_extension": ".py",
   "mimetype": "text/x-python",
   "name": "python",
   "nbconvert_exporter": "python",
   "pygments_lexer": "ipython3",
   "version": "3.8.5"
  }
 },
 "nbformat": 4,
 "nbformat_minor": 2
}
