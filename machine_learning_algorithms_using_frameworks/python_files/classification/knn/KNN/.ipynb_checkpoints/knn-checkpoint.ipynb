{
 "cells": [
  {
   "cell_type": "markdown",
   "metadata": {},
   "source": [
    "## KNN - K Nearest Neighbors\n",
    "\n",
    "**This is my first attempt to demonstrate my skill using Python to impliment K Nearest Neighbors.**\n",
    "\n",
    "I just grabbed the first random dataset from Kaggle that I thought I could use for classificiation.  There was no \"class\" column so I made one from the Chance of Admit percentage column.\n",
    "\n",
    "**Please see knn.txt for additional details.**\n",
    "\n"
   ]
  },
  {
   "cell_type": "code",
   "execution_count": 5,
   "metadata": {},
   "outputs": [
    {
     "data": {
      "text/html": [
       "<div>\n",
       "<style scoped>\n",
       "    .dataframe tbody tr th:only-of-type {\n",
       "        vertical-align: middle;\n",
       "    }\n",
       "\n",
       "    .dataframe tbody tr th {\n",
       "        vertical-align: top;\n",
       "    }\n",
       "\n",
       "    .dataframe thead th {\n",
       "        text-align: right;\n",
       "    }\n",
       "</style>\n",
       "<table border=\"1\" class=\"dataframe\">\n",
       "  <thead>\n",
       "    <tr style=\"text-align: right;\">\n",
       "      <th></th>\n",
       "      <th>gre</th>\n",
       "      <th>toefl</th>\n",
       "      <th>u_rating</th>\n",
       "      <th>sop</th>\n",
       "      <th>lor</th>\n",
       "      <th>cgpa</th>\n",
       "      <th>research</th>\n",
       "      <th>pred</th>\n",
       "    </tr>\n",
       "    <tr>\n",
       "      <th>id</th>\n",
       "      <th></th>\n",
       "      <th></th>\n",
       "      <th></th>\n",
       "      <th></th>\n",
       "      <th></th>\n",
       "      <th></th>\n",
       "      <th></th>\n",
       "      <th></th>\n",
       "    </tr>\n",
       "  </thead>\n",
       "  <tbody>\n",
       "    <tr>\n",
       "      <th>1</th>\n",
       "      <td>337</td>\n",
       "      <td>118</td>\n",
       "      <td>4</td>\n",
       "      <td>4.5</td>\n",
       "      <td>4.5</td>\n",
       "      <td>9.65</td>\n",
       "      <td>1</td>\n",
       "      <td>0.92</td>\n",
       "    </tr>\n",
       "    <tr>\n",
       "      <th>2</th>\n",
       "      <td>324</td>\n",
       "      <td>107</td>\n",
       "      <td>4</td>\n",
       "      <td>4.0</td>\n",
       "      <td>4.5</td>\n",
       "      <td>8.87</td>\n",
       "      <td>1</td>\n",
       "      <td>0.76</td>\n",
       "    </tr>\n",
       "    <tr>\n",
       "      <th>3</th>\n",
       "      <td>316</td>\n",
       "      <td>104</td>\n",
       "      <td>3</td>\n",
       "      <td>3.0</td>\n",
       "      <td>3.5</td>\n",
       "      <td>8.00</td>\n",
       "      <td>1</td>\n",
       "      <td>0.72</td>\n",
       "    </tr>\n",
       "    <tr>\n",
       "      <th>4</th>\n",
       "      <td>322</td>\n",
       "      <td>110</td>\n",
       "      <td>3</td>\n",
       "      <td>3.5</td>\n",
       "      <td>2.5</td>\n",
       "      <td>8.67</td>\n",
       "      <td>1</td>\n",
       "      <td>0.80</td>\n",
       "    </tr>\n",
       "    <tr>\n",
       "      <th>5</th>\n",
       "      <td>314</td>\n",
       "      <td>103</td>\n",
       "      <td>2</td>\n",
       "      <td>2.0</td>\n",
       "      <td>3.0</td>\n",
       "      <td>8.21</td>\n",
       "      <td>0</td>\n",
       "      <td>0.65</td>\n",
       "    </tr>\n",
       "  </tbody>\n",
       "</table>\n",
       "</div>"
      ],
      "text/plain": [
       "    gre  toefl  u_rating  sop  lor  cgpa  research  pred\n",
       "id                                                      \n",
       "1   337    118         4  4.5  4.5  9.65         1  0.92\n",
       "2   324    107         4  4.0  4.5  8.87         1  0.76\n",
       "3   316    104         3  3.0  3.5  8.00         1  0.72\n",
       "4   322    110         3  3.5  2.5  8.67         1  0.80\n",
       "5   314    103         2  2.0  3.0  8.21         0  0.65"
      ]
     },
     "execution_count": 5,
     "metadata": {},
     "output_type": "execute_result"
    }
   ],
   "source": [
    "import pandas as pd\n",
    "import seaborn as sns\n",
    "import matplotlib.pyplot as plt\n",
    "import numpy as np\n",
    "\n",
    "from sklearn.preprocessing import StandardScaler\n",
    "from sklearn.preprocessing import MinMaxScaler\n",
    "from sklearn.model_selection import train_test_split\n",
    "from sklearn.neighbors import KNeighborsClassifier\n",
    "from sklearn.metrics import classification_report,confusion_matrix\n",
    "\n",
    "%matplotlib inline\n",
    "\n",
    "# I just like to lowercase and remove spaces from my cols to avoid common errors...\n",
    "knn_df = pd.read_csv(\"Admission_Predict.csv\", names=[\"id\", \"gre\", \"toefl\", \"u_rating\", \"sop\", \"lor\", \"cgpa\", \"research\", \"pred\"], header=0, index_col = 0)\n",
    "knn_df.head()"
   ]
  },
  {
   "cell_type": "code",
   "execution_count": 9,
   "metadata": {},
   "outputs": [
    {
     "name": "stdout",
     "output_type": "stream",
     "text": [
      "    gre  toefl  u_rating  sop  lor  cgpa  research  pred\n",
      "id                                                      \n",
      "1   337    118         4  4.5  4.5  9.65         1     1\n",
      "2   324    107         4  4.0  4.5  8.87         1     1\n",
      "3   316    104         3  3.0  3.5  8.00         1     0\n",
      "4   322    110         3  3.5  2.5  8.67         1     1\n",
      "5   314    103         2  2.0  3.0  8.21         0     0\n"
     ]
    }
   ],
   "source": [
    "# Scale the data.  I used different scalers for criteria and classes \n",
    "# It just worked out to get me better results this time around.\n",
    "\n",
    "# Use the MinMax Scaler and make the percentage True of False at 65% on the pred column\n",
    "mm_scaler = MinMaxScaler()\n",
    "knn_df['pred'] = mm_scaler.fit_transform(knn_df[['pred']])\n",
    "knn_df['pred'] = knn_df['pred'].apply(lambda x: 0 if x <= 0.65 else 1)\n",
    "print(knn_df.head())\n",
    "# knn_df['pred'].value_counts() # 0=220 1=180\n",
    "\n",
    "\n",
    "# Use the Standard Scaler on the criteria\n",
    "s_scaler = StandardScaler()\n",
    "s_scaler.fit(knn_df.drop('pred',axis=1))\n",
    "scaled_features = s_scaler.transform(knn_df.drop('pred',axis=1))\n",
    "\n",
    "\n",
    "X_train, X_test, y_train, y_test = train_test_split(scaled_features,knn_df['pred'], test_size=0.33)\n"
   ]
  },
  {
   "cell_type": "code",
   "execution_count": 7,
   "metadata": {},
   "outputs": [
    {
     "data": {
      "text/plain": [
       "Text(0, 0.5, 'Error Rate')"
      ]
     },
     "execution_count": 7,
     "metadata": {},
     "output_type": "execute_result"
    },
    {
     "data": {
      "image/png": "[encoded data removed]",
      "text/plain": [
       "<Figure size 1152x864 with 1 Axes>"
      ]
     },
     "metadata": {
      "needs_background": "light"
     },
     "output_type": "display_data"
    }
   ],
   "source": [
    "error = []\n",
    "\n",
    "# loop through knn predictions with different k values to find the optimal k value\n",
    "\n",
    "for i in range(1,40):\n",
    "\n",
    "    knn = KNeighborsClassifier(n_neighbors=i)\n",
    "    knn.fit(X_train,y_train)\n",
    "    pred_i = knn.predict(X_test)\n",
    "    error.append(np.mean(pred_i != y_test))\n",
    "    \n",
    "# Instead of a screen full of numbers lets plot it\n",
    "\n",
    "plt.figure(figsize=(16,12))\n",
    "plt.plot(range(1,40),error,color='blue', linestyle='dashed', marker='o',\n",
    "         markerfacecolor='red', markersize=12)\n",
    "\n",
    "plt.title('Error Rate vs. Chosen K Value')\n",
    "plt.xlabel('Tested K Value')\n",
    "plt.ylabel('Error Rate')"
   ]
  },
  {
   "cell_type": "code",
   "execution_count": 8,
   "metadata": {},
   "outputs": [
    {
     "name": "stdout",
     "output_type": "stream",
     "text": [
      "Confusion Matrix: \n",
      " [[73  5]\n",
      " [11 43]] \n",
      " \n",
      "\n",
      "Classification Report: \n",
      "               precision    recall  f1-score   support\n",
      "\n",
      "           0       0.87      0.94      0.90        78\n",
      "           1       0.90      0.80      0.84        54\n",
      "\n",
      "    accuracy                           0.88       132\n",
      "   macro avg       0.88      0.87      0.87       132\n",
      "weighted avg       0.88      0.88      0.88       132\n",
      "\n"
     ]
    }
   ],
   "source": [
    "knn = KNeighborsClassifier(n_neighbors=30)\n",
    "\n",
    "knn.fit(X_train,y_train)\n",
    "pred = knn.predict(X_test)\n",
    "\n",
    "print(f'Confusion Matrix: \\n {confusion_matrix(y_test,pred)} \\n \\n')\n",
    "print(f'Classification Report: \\n {classification_report(y_test,pred)}')"
   ]
  },
  {
   "cell_type": "code",
   "execution_count": null,
   "metadata": {},
   "outputs": [],
   "source": []
  }
 ],
 "metadata": {
  "kernelspec": {
   "display_name": "Python 3",
   "language": "python",
   "name": "python3"
  },
  "language_info": {
   "codemirror_mode": {
    "name": "ipython",
    "version": 3
   },
   "file_extension": ".py",
   "mimetype": "text/x-python",
   "name": "python",
   "nbconvert_exporter": "python",
   "pygments_lexer": "ipython3",
   "version": "3.8.5"
  }
 },
 "nbformat": 4,
 "nbformat_minor": 2
}
